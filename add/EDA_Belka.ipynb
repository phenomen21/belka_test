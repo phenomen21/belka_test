{
 "cells": [
  {
   "cell_type": "code",
   "execution_count": 1,
   "id": "f21f1ef8",
   "metadata": {},
   "outputs": [],
   "source": [
    "import pandas as pd\n",
    "import numpy as np\n",
    "from matplotlib import pyplot as plt\n",
    "import seaborn as sns\n",
    "from sklearn.model_selection import train_test_split, GridSearchCV\n",
    "from catboost import CatBoostRegressor\n",
    "from sklearn.linear_model import LinearRegression\n",
    "from sklearn.linear_model import RidgeCV\n",
    "from sklearn.pipeline import make_pipeline\n",
    "from sklearn.compose import ColumnTransformer\n",
    "from sklearn.preprocessing import StandardScaler, RobustScaler, LabelEncoder, OneHotEncoder\n",
    "from sklearn.metrics import mean_absolute_error,r2_score\n",
    "import sklearn\n",
    "from sklearn.model_selection import cross_val_score"
   ]
  },
  {
   "cell_type": "code",
   "execution_count": 2,
   "id": "9992981b",
   "metadata": {},
   "outputs": [
    {
     "data": {
      "text/html": [
       "<div>\n",
       "<style scoped>\n",
       "    .dataframe tbody tr th:only-of-type {\n",
       "        vertical-align: middle;\n",
       "    }\n",
       "\n",
       "    .dataframe tbody tr th {\n",
       "        vertical-align: top;\n",
       "    }\n",
       "\n",
       "    .dataframe thead th {\n",
       "        text-align: right;\n",
       "    }\n",
       "</style>\n",
       "<table border=\"1\" class=\"dataframe\">\n",
       "  <thead>\n",
       "    <tr style=\"text-align: right;\">\n",
       "      <th></th>\n",
       "      <th>Дата</th>\n",
       "      <th>Адрес</th>\n",
       "      <th>Количество комнат</th>\n",
       "      <th>Цена, р.</th>\n",
       "      <th>Планировка</th>\n",
       "      <th>Этаж</th>\n",
       "      <th>Общая площадь, м2</th>\n",
       "      <th>Жилая площадь, м2</th>\n",
       "      <th>Площадь кухни, м2</th>\n",
       "      <th>Дополнительное описание</th>\n",
       "      <th>Контакты</th>\n",
       "      <th>Адрес на сайте</th>\n",
       "    </tr>\n",
       "  </thead>\n",
       "  <tbody>\n",
       "    <tr>\n",
       "      <th>0</th>\n",
       "      <td>07.06.2022 18:19</td>\n",
       "      <td>Суворова, 114</td>\n",
       "      <td>Однокомнатная</td>\n",
       "      <td>1 450 000</td>\n",
       "      <td>NaN</td>\n",
       "      <td>4/5</td>\n",
       "      <td>31,60</td>\n",
       "      <td>20,50</td>\n",
       "      <td>6,00</td>\n",
       "      <td>Продаётся  просторная и уютная однокомнатная к...</td>\n",
       "      <td>Каримов Артём Раисович, Рио-Люкс  тел. +792269...</td>\n",
       "      <td>http://magnitogorsk-citystar.ru/realty/prodazh...</td>\n",
       "    </tr>\n",
       "    <tr>\n",
       "      <th>1</th>\n",
       "      <td>07.06.2022 18:19</td>\n",
       "      <td>Галиуллина, 49/2</td>\n",
       "      <td>Двухкомнатная</td>\n",
       "      <td>2 450 000</td>\n",
       "      <td>NaN</td>\n",
       "      <td>5/5</td>\n",
       "      <td>47,90</td>\n",
       "      <td>0,00</td>\n",
       "      <td>6,00</td>\n",
       "      <td>Просторная, светлая квартира ждёт своих новых ...</td>\n",
       "      <td>Гордейчук Евгения Юрьевна, Рио-Люкс  тел. +790...</td>\n",
       "      <td>http://magnitogorsk-citystar.ru/realty/prodazh...</td>\n",
       "    </tr>\n",
       "    <tr>\n",
       "      <th>2</th>\n",
       "      <td>12.01.2022 16:19</td>\n",
       "      <td>Ленина пр-т, 112</td>\n",
       "      <td>Двухкомнатная</td>\n",
       "      <td>1 550 000</td>\n",
       "      <td>NaN</td>\n",
       "      <td>9/9</td>\n",
       "      <td>37,50</td>\n",
       "      <td>29,80</td>\n",
       "      <td>0,00</td>\n",
       "      <td>Удобный вариант двухкомнатной квартиры в центр...</td>\n",
       "      <td>Клочко Анна Валерьевна, Рио-Люкс  тел. +791280...</td>\n",
       "      <td>http://magnitogorsk-citystar.ru/realty/prodazh...</td>\n",
       "    </tr>\n",
       "    <tr>\n",
       "      <th>3</th>\n",
       "      <td>31.03.2022 18:19</td>\n",
       "      <td>50-летия Магнитки, 52</td>\n",
       "      <td>Трехкомнатная</td>\n",
       "      <td>3 050 000</td>\n",
       "      <td>NaN</td>\n",
       "      <td>7/9</td>\n",
       "      <td>66,00</td>\n",
       "      <td>46,00</td>\n",
       "      <td>9,00</td>\n",
       "      <td>В продаже большая 3-х комнатная квартира улучш...</td>\n",
       "      <td>Клочко Анна Валерьевна, Рио-Люкс  тел. +791280...</td>\n",
       "      <td>http://magnitogorsk-citystar.ru/realty/prodazh...</td>\n",
       "    </tr>\n",
       "    <tr>\n",
       "      <th>4</th>\n",
       "      <td>23.05.2022 15:19</td>\n",
       "      <td>Советская, 149</td>\n",
       "      <td>Двухкомнатная</td>\n",
       "      <td>2 150 000</td>\n",
       "      <td>NaN</td>\n",
       "      <td>3/5</td>\n",
       "      <td>47,80</td>\n",
       "      <td>0,00</td>\n",
       "      <td>6,00</td>\n",
       "      <td>В Правобережном районе  продам 2 комнатную  кв...</td>\n",
       "      <td>Ержанова Моника, Рио-Люкс  тел. +79227329445</td>\n",
       "      <td>http://magnitogorsk-citystar.ru/realty/prodazh...</td>\n",
       "    </tr>\n",
       "  </tbody>\n",
       "</table>\n",
       "</div>"
      ],
      "text/plain": [
       "               Дата                  Адрес Количество комнат   Цена, р.  \\\n",
       "0  07.06.2022 18:19          Суворова, 114     Однокомнатная  1 450 000   \n",
       "1  07.06.2022 18:19       Галиуллина, 49/2     Двухкомнатная  2 450 000   \n",
       "2  12.01.2022 16:19       Ленина пр-т, 112     Двухкомнатная  1 550 000   \n",
       "3  31.03.2022 18:19  50-летия Магнитки, 52     Трехкомнатная  3 050 000   \n",
       "4  23.05.2022 15:19         Советская, 149     Двухкомнатная  2 150 000   \n",
       "\n",
       "  Планировка Этаж Общая площадь, м2 Жилая площадь, м2 Площадь кухни, м2  \\\n",
       "0        NaN  4/5             31,60             20,50              6,00   \n",
       "1        NaN  5/5             47,90              0,00              6,00   \n",
       "2        NaN  9/9             37,50             29,80              0,00   \n",
       "3        NaN  7/9             66,00             46,00              9,00   \n",
       "4        NaN  3/5             47,80              0,00              6,00   \n",
       "\n",
       "                             Дополнительное описание  \\\n",
       "0  Продаётся  просторная и уютная однокомнатная к...   \n",
       "1  Просторная, светлая квартира ждёт своих новых ...   \n",
       "2  Удобный вариант двухкомнатной квартиры в центр...   \n",
       "3  В продаже большая 3-х комнатная квартира улучш...   \n",
       "4  В Правобережном районе  продам 2 комнатную  кв...   \n",
       "\n",
       "                                            Контакты  \\\n",
       "0  Каримов Артём Раисович, Рио-Люкс  тел. +792269...   \n",
       "1  Гордейчук Евгения Юрьевна, Рио-Люкс  тел. +790...   \n",
       "2  Клочко Анна Валерьевна, Рио-Люкс  тел. +791280...   \n",
       "3  Клочко Анна Валерьевна, Рио-Люкс  тел. +791280...   \n",
       "4       Ержанова Моника, Рио-Люкс  тел. +79227329445   \n",
       "\n",
       "                                      Адрес на сайте  \n",
       "0  http://magnitogorsk-citystar.ru/realty/prodazh...  \n",
       "1  http://magnitogorsk-citystar.ru/realty/prodazh...  \n",
       "2  http://magnitogorsk-citystar.ru/realty/prodazh...  \n",
       "3  http://magnitogorsk-citystar.ru/realty/prodazh...  \n",
       "4  http://magnitogorsk-citystar.ru/realty/prodazh...  "
      ]
     },
     "execution_count": 2,
     "metadata": {},
     "output_type": "execute_result"
    }
   ],
   "source": [
    "# считываем данные\n",
    "data = pd.read_excel('CityStarExport.xls',skiprows=3, index_col=None,header=1)\n",
    "data.drop(columns=data.columns[0],inplace=True)\n",
    "data.head()"
   ]
  },
  {
   "cell_type": "code",
   "execution_count": 3,
   "id": "38f4d1c7",
   "metadata": {},
   "outputs": [],
   "source": [
    "# назначаем колонки\n",
    "cols = ['date', 'address', 'rooms', 'price', 'planning', 'floor', 'area_total', 'area_living', 'area_kitchen', 'add_info',\n",
    "        'contacts', 'url']\n",
    "data.columns=cols"
   ]
  },
  {
   "cell_type": "code",
   "execution_count": 4,
   "id": "8e37feb3",
   "metadata": {},
   "outputs": [
    {
     "data": {
      "text/plain": [
       "array(['Однокомнатная', 'Двухкомнатная', 'Трехкомнатная',\n",
       "       'Четырехкомнатная', 'Многокомнатная', nan], dtype=object)"
      ]
     },
     "execution_count": 4,
     "metadata": {},
     "output_type": "execute_result"
    }
   ],
   "source": [
    "# как называется колонка с кол-вом комнат\n",
    "data['rooms'].unique()"
   ]
  },
  {
   "cell_type": "code",
   "execution_count": null,
   "id": "f8d02756",
   "metadata": {},
   "outputs": [],
   "source": [
    "# меняем текстовое кол-во комнат на числовое, 5 означает 5 и более"
   ]
  },
  {
   "cell_type": "code",
   "execution_count": 5,
   "id": "e5a10061",
   "metadata": {},
   "outputs": [],
   "source": [
    "data.loc[(data['rooms']=='Однокомнатная'), 'rooms'] = 1\n",
    "data.loc[(data['rooms']=='Двухкомнатная'), 'rooms'] = 2\n",
    "data.loc[(data['rooms']=='Трехкомнатная'), 'rooms'] = 3\n",
    "data.loc[(data['rooms']=='Четырехкомнатная'), 'rooms'] = 4\n",
    "data.loc[(data['rooms']=='Многокомнатная'), 'rooms'] = 5"
   ]
  },
  {
   "cell_type": "code",
   "execution_count": 6,
   "id": "b2e38411",
   "metadata": {},
   "outputs": [
    {
     "data": {
      "text/html": [
       "<div>\n",
       "<style scoped>\n",
       "    .dataframe tbody tr th:only-of-type {\n",
       "        vertical-align: middle;\n",
       "    }\n",
       "\n",
       "    .dataframe tbody tr th {\n",
       "        vertical-align: top;\n",
       "    }\n",
       "\n",
       "    .dataframe thead th {\n",
       "        text-align: right;\n",
       "    }\n",
       "</style>\n",
       "<table border=\"1\" class=\"dataframe\">\n",
       "  <thead>\n",
       "    <tr style=\"text-align: right;\">\n",
       "      <th></th>\n",
       "      <th>date</th>\n",
       "      <th>address</th>\n",
       "      <th>rooms</th>\n",
       "      <th>price</th>\n",
       "      <th>planning</th>\n",
       "      <th>floor</th>\n",
       "      <th>area_total</th>\n",
       "      <th>area_living</th>\n",
       "      <th>area_kitchen</th>\n",
       "      <th>add_info</th>\n",
       "      <th>contacts</th>\n",
       "      <th>url</th>\n",
       "    </tr>\n",
       "  </thead>\n",
       "  <tbody>\n",
       "    <tr>\n",
       "      <th>44</th>\n",
       "      <td>28.05.2022 18:01</td>\n",
       "      <td>ГСК Зеленый лог территория, 25</td>\n",
       "      <td>NaN</td>\n",
       "      <td>1 170 000</td>\n",
       "      <td>NaN</td>\n",
       "      <td>6/10</td>\n",
       "      <td>24,00</td>\n",
       "      <td>12,00</td>\n",
       "      <td>6,00</td>\n",
       "      <td>1 комн. квартира по ул. Зеленый Лог. Общей пло...</td>\n",
       "      <td>Александр Николаевич, ЖИЛФОНД  тел. +79068510763</td>\n",
       "      <td>http://magnitogorsk-citystar.ru/realty/prodazh...</td>\n",
       "    </tr>\n",
       "    <tr>\n",
       "      <th>45</th>\n",
       "      <td>28.05.2022 18:01</td>\n",
       "      <td>ГСК Зеленый лог территория, 21</td>\n",
       "      <td>NaN</td>\n",
       "      <td>1 350 000</td>\n",
       "      <td>NaN</td>\n",
       "      <td>1/10</td>\n",
       "      <td>24,20</td>\n",
       "      <td>12,00</td>\n",
       "      <td>6,00</td>\n",
       "      <td>1 комн. квартира по ул. Зеленый Лог. Общей пло...</td>\n",
       "      <td>Александр Николаевич, ЖИЛФОНД  тел. +79068510763</td>\n",
       "      <td>http://magnitogorsk-citystar.ru/realty/prodazh...</td>\n",
       "    </tr>\n",
       "    <tr>\n",
       "      <th>717</th>\n",
       "      <td>19.03.2022 04:42</td>\n",
       "      <td>ул Астраханская, 33</td>\n",
       "      <td>NaN</td>\n",
       "      <td>6 200 000</td>\n",
       "      <td>NaN</td>\n",
       "      <td>12/17</td>\n",
       "      <td>33,00</td>\n",
       "      <td>20,00</td>\n",
       "      <td>5,00</td>\n",
       "      <td>Объект №34034 Продается упакованная квартира-с...</td>\n",
       "      <td>Олег, Панорама  тел. (918) 494-06-00</td>\n",
       "      <td>http://magnitogorsk-citystar.ru/realty/prodazh...</td>\n",
       "    </tr>\n",
       "    <tr>\n",
       "      <th>914</th>\n",
       "      <td>02.12.2021 05:28</td>\n",
       "      <td>ул Владимирская, 24</td>\n",
       "      <td>NaN</td>\n",
       "      <td>2 990 000</td>\n",
       "      <td>NaN</td>\n",
       "      <td>-1/20</td>\n",
       "      <td>25,00</td>\n",
       "      <td>20,00</td>\n",
       "      <td>20,00</td>\n",
       "      <td>Объект №32348 Продается 1-комнатная квартира, ...</td>\n",
       "      <td>Панорама, Панорама  тел. (800) 550-55-97</td>\n",
       "      <td>http://magnitogorsk-citystar.ru/realty/prodazh...</td>\n",
       "    </tr>\n",
       "    <tr>\n",
       "      <th>1277</th>\n",
       "      <td>02.03.2022 04:12</td>\n",
       "      <td>Ворошилова, 13</td>\n",
       "      <td>NaN</td>\n",
       "      <td>10 000 000</td>\n",
       "      <td>NaN</td>\n",
       "      <td>4/4</td>\n",
       "      <td>123,50</td>\n",
       "      <td>40,00</td>\n",
       "      <td>24,00</td>\n",
       "      <td>Продается новая, просторная квартира-студия об...</td>\n",
       "      <td>ОН Перспектива 24 - Горячий Ключ, ОН Перспекти...</td>\n",
       "      <td>http://magnitogorsk-citystar.ru/realty/prodazh...</td>\n",
       "    </tr>\n",
       "  </tbody>\n",
       "</table>\n",
       "</div>"
      ],
      "text/plain": [
       "                  date                         address rooms       price  \\\n",
       "44    28.05.2022 18:01  ГСК Зеленый лог территория, 25   NaN   1 170 000   \n",
       "45    28.05.2022 18:01  ГСК Зеленый лог территория, 21   NaN   1 350 000   \n",
       "717   19.03.2022 04:42             ул Астраханская, 33   NaN   6 200 000   \n",
       "914   02.12.2021 05:28             ул Владимирская, 24   NaN   2 990 000   \n",
       "1277  02.03.2022 04:12                  Ворошилова, 13   NaN  10 000 000   \n",
       "\n",
       "     planning  floor area_total area_living area_kitchen  \\\n",
       "44        NaN   6/10      24,00       12,00         6,00   \n",
       "45        NaN   1/10      24,20       12,00         6,00   \n",
       "717       NaN  12/17      33,00       20,00         5,00   \n",
       "914       NaN  -1/20      25,00       20,00        20,00   \n",
       "1277      NaN    4/4     123,50       40,00        24,00   \n",
       "\n",
       "                                               add_info  \\\n",
       "44    1 комн. квартира по ул. Зеленый Лог. Общей пло...   \n",
       "45    1 комн. квартира по ул. Зеленый Лог. Общей пло...   \n",
       "717   Объект №34034 Продается упакованная квартира-с...   \n",
       "914   Объект №32348 Продается 1-комнатная квартира, ...   \n",
       "1277  Продается новая, просторная квартира-студия об...   \n",
       "\n",
       "                                               contacts  \\\n",
       "44     Александр Николаевич, ЖИЛФОНД  тел. +79068510763   \n",
       "45     Александр Николаевич, ЖИЛФОНД  тел. +79068510763   \n",
       "717                Олег, Панорама  тел. (918) 494-06-00   \n",
       "914            Панорама, Панорама  тел. (800) 550-55-97   \n",
       "1277  ОН Перспектива 24 - Горячий Ключ, ОН Перспекти...   \n",
       "\n",
       "                                                    url  \n",
       "44    http://magnitogorsk-citystar.ru/realty/prodazh...  \n",
       "45    http://magnitogorsk-citystar.ru/realty/prodazh...  \n",
       "717   http://magnitogorsk-citystar.ru/realty/prodazh...  \n",
       "914   http://magnitogorsk-citystar.ru/realty/prodazh...  \n",
       "1277  http://magnitogorsk-citystar.ru/realty/prodazh...  "
      ]
     },
     "execution_count": 6,
     "metadata": {},
     "output_type": "execute_result"
    }
   ],
   "source": [
    "# посмотрим где NaN в количестве комнат\n",
    "data.loc[(data['rooms'].isna()), :]"
   ]
  },
  {
   "cell_type": "code",
   "execution_count": 7,
   "id": "7baa388e",
   "metadata": {},
   "outputs": [],
   "source": [
    "# это все однокомнатные, поэтому ставим 1\n",
    "data.loc[(data['rooms'].isna()), 'rooms'] = 1"
   ]
  },
  {
   "cell_type": "code",
   "execution_count": 8,
   "id": "fc26a2aa",
   "metadata": {},
   "outputs": [
    {
     "name": "stdout",
     "output_type": "stream",
     "text": [
      "<class 'pandas.core.frame.DataFrame'>\n",
      "RangeIndex: 1322 entries, 0 to 1321\n",
      "Data columns (total 12 columns):\n",
      " #   Column        Non-Null Count  Dtype \n",
      "---  ------        --------------  ----- \n",
      " 0   date          1322 non-null   object\n",
      " 1   address       1322 non-null   object\n",
      " 2   rooms         1322 non-null   object\n",
      " 3   price         1322 non-null   object\n",
      " 4   planning      586 non-null    object\n",
      " 5   floor         1322 non-null   object\n",
      " 6   area_total    1322 non-null   object\n",
      " 7   area_living   1322 non-null   object\n",
      " 8   area_kitchen  1322 non-null   object\n",
      " 9   add_info      1318 non-null   object\n",
      " 10  contacts      1322 non-null   object\n",
      " 11  url           1322 non-null   object\n",
      "dtypes: object(12)\n",
      "memory usage: 124.1+ KB\n"
     ]
    }
   ],
   "source": [
    "data.info()"
   ]
  },
  {
   "cell_type": "code",
   "execution_count": 9,
   "id": "dc820d60",
   "metadata": {},
   "outputs": [],
   "source": [
    "# обнаружилось, что продают квартиры в селах, удалю\n",
    "data.fillna('', inplace=True)\n",
    "data.drop(data[data['add_info'].str.contains('агапов', case=False)].index,inplace=True)"
   ]
  },
  {
   "cell_type": "code",
   "execution_count": 10,
   "id": "3b084bd0",
   "metadata": {},
   "outputs": [],
   "source": [
    "# в цене уберем пробелы\n",
    "data['price'] = data['price'].str.replace(u'\\xa0', '')"
   ]
  },
  {
   "cell_type": "code",
   "execution_count": 11,
   "id": "ef702530",
   "metadata": {},
   "outputs": [],
   "source": [
    "# в площади стоят запятые, будут проблемы с переводом во float\n",
    "data['area_total'] = data['area_total'].str.replace(',', '.')\n",
    "data['area_kitchen'] = data['area_kitchen'].str.replace(',', '.')\n",
    "data['area_living'] = data['area_living'].str.replace(',', '.')\n",
    "# тут будет сам этаж\n",
    "data['fl'] = data['floor'].str.split('/',expand=True)[0].astype('int32')\n",
    "data['fl_tot'] = data['floor'].str.split('/',expand=True)[1]\n",
    "data.drop(data[data['fl_tot'] == ''].index, inplace=True)"
   ]
  },
  {
   "cell_type": "code",
   "execution_count": 12,
   "id": "e63aeb4a",
   "metadata": {},
   "outputs": [
    {
     "data": {
      "text/plain": [
       "count    1.314000e+03\n",
       "mean     2.693844e+06\n",
       "std      1.423549e+06\n",
       "min      1.550000e+03\n",
       "10%      1.550000e+06\n",
       "25%      1.902500e+06\n",
       "50%      2.500000e+06\n",
       "75%      3.100000e+06\n",
       "85%      3.590000e+06\n",
       "90%      3.970000e+06\n",
       "95%      4.735000e+06\n",
       "99%      7.174000e+06\n",
       "max      2.729000e+07\n",
       "Name: price, dtype: float64"
      ]
     },
     "execution_count": 12,
     "metadata": {},
     "output_type": "execute_result"
    }
   ],
   "source": [
    "# посмотрим распределение целевой переменной\n",
    "data['price'] = data['price'].astype('int64')\n",
    "data['price'].describe(percentiles=[.1,.25,.5,.75,.85,.9,.95,.99])"
   ]
  },
  {
   "cell_type": "code",
   "execution_count": 13,
   "id": "23a36afb",
   "metadata": {},
   "outputs": [
    {
     "data": {
      "text/html": [
       "<div>\n",
       "<style scoped>\n",
       "    .dataframe tbody tr th:only-of-type {\n",
       "        vertical-align: middle;\n",
       "    }\n",
       "\n",
       "    .dataframe tbody tr th {\n",
       "        vertical-align: top;\n",
       "    }\n",
       "\n",
       "    .dataframe thead th {\n",
       "        text-align: right;\n",
       "    }\n",
       "</style>\n",
       "<table border=\"1\" class=\"dataframe\">\n",
       "  <thead>\n",
       "    <tr style=\"text-align: right;\">\n",
       "      <th></th>\n",
       "      <th>date</th>\n",
       "      <th>address</th>\n",
       "      <th>rooms</th>\n",
       "      <th>price</th>\n",
       "      <th>planning</th>\n",
       "      <th>floor</th>\n",
       "      <th>area_total</th>\n",
       "      <th>area_living</th>\n",
       "      <th>area_kitchen</th>\n",
       "      <th>add_info</th>\n",
       "      <th>contacts</th>\n",
       "      <th>url</th>\n",
       "      <th>fl</th>\n",
       "      <th>fl_tot</th>\n",
       "    </tr>\n",
       "  </thead>\n",
       "  <tbody>\n",
       "    <tr>\n",
       "      <th>70</th>\n",
       "      <td>24.05.2022 13:19</td>\n",
       "      <td>Ленина пр-т, 69</td>\n",
       "      <td>1</td>\n",
       "      <td>19500000</td>\n",
       "      <td></td>\n",
       "      <td>5/5</td>\n",
       "      <td>34.00</td>\n",
       "      <td>19.00</td>\n",
       "      <td>8.00</td>\n",
       "      <td>#объект в нашей базе №12389016#</td>\n",
       "      <td>Тугузова Алия Амиржановна, Рио-Люкс  тел. +790...</td>\n",
       "      <td>http://magnitogorsk-citystar.ru/realty/prodazh...</td>\n",
       "      <td>5</td>\n",
       "      <td>5</td>\n",
       "    </tr>\n",
       "    <tr>\n",
       "      <th>161</th>\n",
       "      <td>27.02.2022 12:48</td>\n",
       "      <td>Ленина пр-т, 57/3</td>\n",
       "      <td>4</td>\n",
       "      <td>10500000</td>\n",
       "      <td>раздельная</td>\n",
       "      <td>2/7</td>\n",
       "      <td>140.00</td>\n",
       "      <td>70.00</td>\n",
       "      <td>18.00</td>\n",
       "      <td>Продается квартира элит класса, в самом центре...</td>\n",
       "      <td>Александр  Сергеевич Конищев  тел. 8-909-74-72...</td>\n",
       "      <td>http://magnitogorsk-citystar.ru/realty/prodazh...</td>\n",
       "      <td>2</td>\n",
       "      <td>7</td>\n",
       "    </tr>\n",
       "    <tr>\n",
       "      <th>433</th>\n",
       "      <td>20.03.2022 21:01</td>\n",
       "      <td>Карла Маркса, 56</td>\n",
       "      <td>2</td>\n",
       "      <td>27290000</td>\n",
       "      <td>нестандартная</td>\n",
       "      <td>5/5</td>\n",
       "      <td>41.00</td>\n",
       "      <td>30.00</td>\n",
       "      <td>6.00</td>\n",
       "      <td>ПОКУПАЯ ДАННУЮ КВАРТИРУ ВЫ ПОЛУЧАЕТЕ ПОМОЩЬ В ...</td>\n",
       "      <td>Лисицкая Вера Васильевна, Корпорация недвижимо...</td>\n",
       "      <td>http://magnitogorsk-citystar.ru/realty/prodazh...</td>\n",
       "      <td>5</td>\n",
       "      <td>5</td>\n",
       "    </tr>\n",
       "    <tr>\n",
       "      <th>975</th>\n",
       "      <td>09.06.2021 15:01</td>\n",
       "      <td>Набережная, 16</td>\n",
       "      <td>5</td>\n",
       "      <td>10700000</td>\n",
       "      <td>нестандартная</td>\n",
       "      <td>2/5</td>\n",
       "      <td>196.00</td>\n",
       "      <td>120.00</td>\n",
       "      <td>25.00</td>\n",
       "      <td>Пока объект на сайте, значит он в продаже.  О ...</td>\n",
       "      <td>Воронов Константин  тел. 890-8822-9922,43-02-39</td>\n",
       "      <td>http://magnitogorsk-citystar.ru/realty/prodazh...</td>\n",
       "      <td>2</td>\n",
       "      <td>5</td>\n",
       "    </tr>\n",
       "  </tbody>\n",
       "</table>\n",
       "</div>"
      ],
      "text/plain": [
       "                 date            address  rooms     price       planning  \\\n",
       "70   24.05.2022 13:19    Ленина пр-т, 69      1  19500000                  \n",
       "161  27.02.2022 12:48  Ленина пр-т, 57/3      4  10500000     раздельная   \n",
       "433  20.03.2022 21:01   Карла Маркса, 56      2  27290000  нестандартная   \n",
       "975  09.06.2021 15:01     Набережная, 16      5  10700000  нестандартная   \n",
       "\n",
       "    floor area_total area_living area_kitchen  \\\n",
       "70    5/5      34.00       19.00         8.00   \n",
       "161   2/7     140.00       70.00        18.00   \n",
       "433   5/5      41.00       30.00         6.00   \n",
       "975   2/5     196.00      120.00        25.00   \n",
       "\n",
       "                                              add_info  \\\n",
       "70                     #объект в нашей базе №12389016#   \n",
       "161  Продается квартира элит класса, в самом центре...   \n",
       "433  ПОКУПАЯ ДАННУЮ КВАРТИРУ ВЫ ПОЛУЧАЕТЕ ПОМОЩЬ В ...   \n",
       "975  Пока объект на сайте, значит он в продаже.  О ...   \n",
       "\n",
       "                                              contacts  \\\n",
       "70   Тугузова Алия Амиржановна, Рио-Люкс  тел. +790...   \n",
       "161  Александр  Сергеевич Конищев  тел. 8-909-74-72...   \n",
       "433  Лисицкая Вера Васильевна, Корпорация недвижимо...   \n",
       "975    Воронов Константин  тел. 890-8822-9922,43-02-39   \n",
       "\n",
       "                                                   url  fl fl_tot  \n",
       "70   http://magnitogorsk-citystar.ru/realty/prodazh...   5      5  \n",
       "161  http://magnitogorsk-citystar.ru/realty/prodazh...   2      7  \n",
       "433  http://magnitogorsk-citystar.ru/realty/prodazh...   5      5  \n",
       "975  http://magnitogorsk-citystar.ru/realty/prodazh...   2      5  "
      ]
     },
     "execution_count": 13,
     "metadata": {},
     "output_type": "execute_result"
    }
   ],
   "source": [
    "# есть несколько очень больших значений\n",
    "data[data['price']>1e7]"
   ]
  },
  {
   "cell_type": "code",
   "execution_count": 14,
   "id": "e2a40da9",
   "metadata": {},
   "outputs": [],
   "source": [
    "# видно, что несколько из них явно опечатки - маленькие квартиры с огромными ценами = ##70 и 433\n",
    "data.loc[70,'price'] = data.loc[70,'price']/10\n",
    "data.loc[433,'price'] = data.loc[433,'price']/10"
   ]
  },
  {
   "cell_type": "code",
   "execution_count": 15,
   "id": "197ecb02",
   "metadata": {},
   "outputs": [
    {
     "data": {
      "text/html": [
       "<div>\n",
       "<style scoped>\n",
       "    .dataframe tbody tr th:only-of-type {\n",
       "        vertical-align: middle;\n",
       "    }\n",
       "\n",
       "    .dataframe tbody tr th {\n",
       "        vertical-align: top;\n",
       "    }\n",
       "\n",
       "    .dataframe thead th {\n",
       "        text-align: right;\n",
       "    }\n",
       "</style>\n",
       "<table border=\"1\" class=\"dataframe\">\n",
       "  <thead>\n",
       "    <tr style=\"text-align: right;\">\n",
       "      <th></th>\n",
       "      <th>add_info</th>\n",
       "      <th>price</th>\n",
       "    </tr>\n",
       "  </thead>\n",
       "  <tbody>\n",
       "    <tr>\n",
       "      <th>49</th>\n",
       "      <td>ПАО Сбербанк реализует имущество: \\nОбъект (ID...</td>\n",
       "      <td>238191.0</td>\n",
       "    </tr>\n",
       "    <tr>\n",
       "      <th>149</th>\n",
       "      <td>Продается теплая раздельная трехкомнатная квар...</td>\n",
       "      <td>650000.0</td>\n",
       "    </tr>\n",
       "    <tr>\n",
       "      <th>186</th>\n",
       "      <td>Продам 2-ую квартиру 50 кв.м в с. Фершaмпенуaз...</td>\n",
       "      <td>850000.0</td>\n",
       "    </tr>\n",
       "    <tr>\n",
       "      <th>194</th>\n",
       "      <td>продам 1/3 долю квартиры.торг.</td>\n",
       "      <td>300000.0</td>\n",
       "    </tr>\n",
       "    <tr>\n",
       "      <th>199</th>\n",
       "      <td>Дом за Молживом, правобережные очистные сооруж...</td>\n",
       "      <td>950000.0</td>\n",
       "    </tr>\n",
       "    <tr>\n",
       "      <th>263</th>\n",
       "      <td>Продам 2х комнатную квартиру в пос. Буранное. ...</td>\n",
       "      <td>930000.0</td>\n",
       "    </tr>\n",
       "    <tr>\n",
       "      <th>346</th>\n",
       "      <td>Продам уютную 2-х комнатную квартиру общей пло...</td>\n",
       "      <td>999000.0</td>\n",
       "    </tr>\n",
       "    <tr>\n",
       "      <th>358</th>\n",
       "      <td>Однокомнатная квартира Гостиничного типа, на в...</td>\n",
       "      <td>930000.0</td>\n",
       "    </tr>\n",
       "    <tr>\n",
       "      <th>362</th>\n",
       "      <td>Двухкомнатная квартира в пос. Южный Нагайбакск...</td>\n",
       "      <td>380000.0</td>\n",
       "    </tr>\n",
       "    <tr>\n",
       "      <th>401</th>\n",
       "      <td>ОДНОКОМНАТНОЙ КВАРТИРЫ в центре города на ост....</td>\n",
       "      <td>1550.0</td>\n",
       "    </tr>\n",
       "    <tr>\n",
       "      <th>410</th>\n",
       "      <td>квартира класса \"ЛЮКС\", в сердце Ленинского ра...</td>\n",
       "      <td>3900.0</td>\n",
       "    </tr>\n",
       "    <tr>\n",
       "      <th>418</th>\n",
       "      <td>Состояние квартиры хорошее. Ремонт. Пластиковы...</td>\n",
       "      <td>2400.0</td>\n",
       "    </tr>\n",
       "    <tr>\n",
       "      <th>643</th>\n",
       "      <td>Продам СТУДИЮ,  в новом строящемся поселке зак...</td>\n",
       "      <td>950000.0</td>\n",
       "    </tr>\n",
       "    <tr>\n",
       "      <th>649</th>\n",
       "      <td>Сдам в аренду коммерческое помещение, 75 кв.м....</td>\n",
       "      <td>650000.0</td>\n",
       "    </tr>\n",
       "    <tr>\n",
       "      <th>853</th>\n",
       "      <td>Продам однокомнатную квартиру Гостинку, 18,3 к...</td>\n",
       "      <td>990000.0</td>\n",
       "    </tr>\n",
       "    <tr>\n",
       "      <th>883</th>\n",
       "      <td>!Продам квартиру в обычном состоянии. Плюсы эт...</td>\n",
       "      <td>950000.0</td>\n",
       "    </tr>\n",
       "    <tr>\n",
       "      <th>884</th>\n",
       "      <td>!!Продам двухкомнатную квартиру в обычном сост...</td>\n",
       "      <td>850000.0</td>\n",
       "    </tr>\n",
       "    <tr>\n",
       "      <th>895</th>\n",
       "      <td>ПPОДАЁТCЯ 2 К.КВ., ПО АДРEСУ село Шухободь, ул...</td>\n",
       "      <td>930000.0</td>\n",
       "    </tr>\n",
       "    <tr>\n",
       "      <th>1032</th>\n",
       "      <td>Продам 1/5 долю в трехкомнатной квартире</td>\n",
       "      <td>500000.0</td>\n",
       "    </tr>\n",
       "    <tr>\n",
       "      <th>1120</th>\n",
       "      <td>Земельном участок 8 соток. Рядом с домом на эт...</td>\n",
       "      <td>950000.0</td>\n",
       "    </tr>\n",
       "    <tr>\n",
       "      <th>1171</th>\n",
       "      <td>Продам двухкомнатную квартиру улучшенной плани...</td>\n",
       "      <td>480000.0</td>\n",
       "    </tr>\n",
       "    <tr>\n",
       "      <th>1295</th>\n",
       "      <td>Продам квартиру, в хорошем состоянии.В квартир...</td>\n",
       "      <td>500000.0</td>\n",
       "    </tr>\n",
       "  </tbody>\n",
       "</table>\n",
       "</div>"
      ],
      "text/plain": [
       "                                               add_info     price\n",
       "49    ПАО Сбербанк реализует имущество: \\nОбъект (ID...  238191.0\n",
       "149   Продается теплая раздельная трехкомнатная квар...  650000.0\n",
       "186   Продам 2-ую квартиру 50 кв.м в с. Фершaмпенуaз...  850000.0\n",
       "194                      продам 1/3 долю квартиры.торг.  300000.0\n",
       "199   Дом за Молживом, правобережные очистные сооруж...  950000.0\n",
       "263   Продам 2х комнатную квартиру в пос. Буранное. ...  930000.0\n",
       "346   Продам уютную 2-х комнатную квартиру общей пло...  999000.0\n",
       "358   Однокомнатная квартира Гостиничного типа, на в...  930000.0\n",
       "362   Двухкомнатная квартира в пос. Южный Нагайбакск...  380000.0\n",
       "401   ОДНОКОМНАТНОЙ КВАРТИРЫ в центре города на ост....    1550.0\n",
       "410   квартира класса \"ЛЮКС\", в сердце Ленинского ра...    3900.0\n",
       "418   Состояние квартиры хорошее. Ремонт. Пластиковы...    2400.0\n",
       "643   Продам СТУДИЮ,  в новом строящемся поселке зак...  950000.0\n",
       "649   Сдам в аренду коммерческое помещение, 75 кв.м....  650000.0\n",
       "853   Продам однокомнатную квартиру Гостинку, 18,3 к...  990000.0\n",
       "883   !Продам квартиру в обычном состоянии. Плюсы эт...  950000.0\n",
       "884   !!Продам двухкомнатную квартиру в обычном сост...  850000.0\n",
       "895   ПPОДАЁТCЯ 2 К.КВ., ПО АДРEСУ село Шухободь, ул...  930000.0\n",
       "1032           Продам 1/5 долю в трехкомнатной квартире  500000.0\n",
       "1120  Земельном участок 8 соток. Рядом с домом на эт...  950000.0\n",
       "1171  Продам двухкомнатную квартиру улучшенной плани...  480000.0\n",
       "1295  Продам квартиру, в хорошем состоянии.В квартир...  500000.0"
      ]
     },
     "execution_count": 15,
     "metadata": {},
     "output_type": "execute_result"
    }
   ],
   "source": [
    "# и похоже есть несколько очень маленьких значений, возможно тоже ошибки\n",
    "data[data['price']<1e6][['add_info','price']]"
   ]
  },
  {
   "cell_type": "code",
   "execution_count": 16,
   "id": "cd986c83",
   "metadata": {},
   "outputs": [],
   "source": [
    "#  есть доли, есть квартиры в селах, лучше все их удалить, дешевле 1 млн\n",
    "data.drop(data[data['price']<1e6].index, inplace=True)"
   ]
  },
  {
   "cell_type": "code",
   "execution_count": 17,
   "id": "1eb0500f",
   "metadata": {},
   "outputs": [
    {
     "data": {
      "text/plain": [
       "count    1.292000e+03\n",
       "mean     2.696296e+06\n",
       "std      1.140113e+06\n",
       "min      1.000000e+06\n",
       "1%       1.189100e+06\n",
       "10%      1.596000e+06\n",
       "50%      2.500000e+06\n",
       "90%      3.970000e+06\n",
       "99.8%    9.709000e+06\n",
       "max      1.070000e+07\n",
       "Name: price, dtype: float64"
      ]
     },
     "execution_count": 17,
     "metadata": {},
     "output_type": "execute_result"
    }
   ],
   "source": [
    "data['price'].describe(percentiles=[0.01,0.1,0.5,0.9,0.998])"
   ]
  },
  {
   "cell_type": "code",
   "execution_count": null,
   "id": "8155d74d",
   "metadata": {},
   "outputs": [],
   "source": [
    "# поработаем с площадями - может они влияют друг на друга\n",
    "data['area_total'] = data['area_total'].astype('float')\n",
    "data['area_kitchen'] = data['area_kitchen'].astype('float')\n",
    "data['area_living'] = data['area_living'].astype('float')"
   ]
  },
  {
   "cell_type": "code",
   "execution_count": 213,
   "id": "61604773",
   "metadata": {},
   "outputs": [
    {
     "data": {
      "text/html": [
       "<div>\n",
       "<style scoped>\n",
       "    .dataframe tbody tr th:only-of-type {\n",
       "        vertical-align: middle;\n",
       "    }\n",
       "\n",
       "    .dataframe tbody tr th {\n",
       "        vertical-align: top;\n",
       "    }\n",
       "\n",
       "    .dataframe thead th {\n",
       "        text-align: right;\n",
       "    }\n",
       "</style>\n",
       "<table border=\"1\" class=\"dataframe\">\n",
       "  <thead>\n",
       "    <tr style=\"text-align: right;\">\n",
       "      <th></th>\n",
       "      <th>area_total</th>\n",
       "      <th>area_living</th>\n",
       "      <th>area_kitchen</th>\n",
       "    </tr>\n",
       "  </thead>\n",
       "  <tbody>\n",
       "    <tr>\n",
       "      <th>count</th>\n",
       "      <td>1290.000000</td>\n",
       "      <td>1290.000000</td>\n",
       "      <td>1290.000000</td>\n",
       "    </tr>\n",
       "    <tr>\n",
       "      <th>mean</th>\n",
       "      <td>49.580667</td>\n",
       "      <td>28.185636</td>\n",
       "      <td>7.837395</td>\n",
       "    </tr>\n",
       "    <tr>\n",
       "      <th>std</th>\n",
       "      <td>18.997963</td>\n",
       "      <td>16.917915</td>\n",
       "      <td>4.532269</td>\n",
       "    </tr>\n",
       "    <tr>\n",
       "      <th>min</th>\n",
       "      <td>4.000000</td>\n",
       "      <td>0.000000</td>\n",
       "      <td>0.000000</td>\n",
       "    </tr>\n",
       "    <tr>\n",
       "      <th>25%</th>\n",
       "      <td>35.225000</td>\n",
       "      <td>18.000000</td>\n",
       "      <td>6.000000</td>\n",
       "    </tr>\n",
       "    <tr>\n",
       "      <th>50%</th>\n",
       "      <td>45.250000</td>\n",
       "      <td>29.000000</td>\n",
       "      <td>7.000000</td>\n",
       "    </tr>\n",
       "    <tr>\n",
       "      <th>75%</th>\n",
       "      <td>61.000000</td>\n",
       "      <td>39.000000</td>\n",
       "      <td>9.000000</td>\n",
       "    </tr>\n",
       "    <tr>\n",
       "      <th>max</th>\n",
       "      <td>196.000000</td>\n",
       "      <td>140.000000</td>\n",
       "      <td>50.000000</td>\n",
       "    </tr>\n",
       "  </tbody>\n",
       "</table>\n",
       "</div>"
      ],
      "text/plain": [
       "        area_total  area_living  area_kitchen\n",
       "count  1290.000000  1290.000000   1290.000000\n",
       "mean     49.580667    28.185636      7.837395\n",
       "std      18.997963    16.917915      4.532269\n",
       "min       4.000000     0.000000      0.000000\n",
       "25%      35.225000    18.000000      6.000000\n",
       "50%      45.250000    29.000000      7.000000\n",
       "75%      61.000000    39.000000      9.000000\n",
       "max     196.000000   140.000000     50.000000"
      ]
     },
     "execution_count": 213,
     "metadata": {},
     "output_type": "execute_result"
    }
   ],
   "source": [
    "data.loc[:,data.columns.str.contains('area')].describe()"
   ]
  },
  {
   "cell_type": "code",
   "execution_count": 234,
   "id": "a3f2fcfd",
   "metadata": {},
   "outputs": [],
   "source": [
    "# общая площадь 4м - так не бывает\n",
    "data.drop(data[data['area_total']<10].index, inplace=True)"
   ]
  },
  {
   "cell_type": "code",
   "execution_count": 235,
   "id": "a5ef4946",
   "metadata": {},
   "outputs": [
    {
     "data": {
      "text/plain": [
       "<AxesSubplot:>"
      ]
     },
     "execution_count": 235,
     "metadata": {},
     "output_type": "execute_result"
    },
    {
     "data": {
      "image/png": "[encoded data removed]",
      "text/plain": [
       "<Figure size 432x288 with 2 Axes>"
      ]
     },
     "metadata": {
      "needs_background": "light"
     },
     "output_type": "display_data"
    }
   ],
   "source": [
    "sns.heatmap(data.corr(),annot=True,cmap='viridis')"
   ]
  },
  {
   "cell_type": "code",
   "execution_count": null,
   "id": "ffc6f867",
   "metadata": {},
   "outputs": [],
   "source": [
    "# отсюда я вижу, что общая площадь и жилая площадь сильно коррелируют"
   ]
  },
  {
   "cell_type": "code",
   "execution_count": 330,
   "id": "15f59f81",
   "metadata": {},
   "outputs": [],
   "source": [
    "# пробую оставить площадь кухни, для этого удалю везде, где площадь кухни сильно маленькая\n",
    "data.drop(data[data['area_kitchen']<5].index,inplace=True)"
   ]
  },
  {
   "cell_type": "code",
   "execution_count": null,
   "id": "77cb7c14",
   "metadata": {},
   "outputs": [],
   "source": []
  },
  {
   "cell_type": "code",
   "execution_count": null,
   "id": "7e998784",
   "metadata": {},
   "outputs": [],
   "source": []
  },
  {
   "cell_type": "code",
   "execution_count": null,
   "id": "67c114f6",
   "metadata": {},
   "outputs": [],
   "source": []
  },
  {
   "cell_type": "code",
   "execution_count": 331,
   "id": "3c76b8ac",
   "metadata": {},
   "outputs": [
    {
     "data": {
      "text/plain": [
       "<AxesSubplot:xlabel='area_total', ylabel='price'>"
      ]
     },
     "execution_count": 331,
     "metadata": {},
     "output_type": "execute_result"
    },
    {
     "data": {
      "image/png": "[encoded data removed]",
      "text/plain": [
       "<Figure size 432x288 with 1 Axes>"
      ]
     },
     "metadata": {
      "needs_background": "light"
     },
     "output_type": "display_data"
    }
   ],
   "source": [
    "# построю ещё зависимость цены от площади\n",
    "sns.scatterplot(data=data,x='area_total',y='price')"
   ]
  },
  {
   "cell_type": "code",
   "execution_count": 332,
   "id": "114b30a9",
   "metadata": {},
   "outputs": [
    {
     "data": {
      "text/html": [
       "<div>\n",
       "<style scoped>\n",
       "    .dataframe tbody tr th:only-of-type {\n",
       "        vertical-align: middle;\n",
       "    }\n",
       "\n",
       "    .dataframe tbody tr th {\n",
       "        vertical-align: top;\n",
       "    }\n",
       "\n",
       "    .dataframe thead th {\n",
       "        text-align: right;\n",
       "    }\n",
       "</style>\n",
       "<table border=\"1\" class=\"dataframe\">\n",
       "  <thead>\n",
       "    <tr style=\"text-align: right;\">\n",
       "      <th></th>\n",
       "      <th>date</th>\n",
       "      <th>address</th>\n",
       "      <th>rooms</th>\n",
       "      <th>price</th>\n",
       "      <th>planning</th>\n",
       "      <th>floor</th>\n",
       "      <th>area_total</th>\n",
       "      <th>area_living</th>\n",
       "      <th>area_kitchen</th>\n",
       "      <th>add_info</th>\n",
       "      <th>contacts</th>\n",
       "      <th>url</th>\n",
       "      <th>fl</th>\n",
       "      <th>fl_tot</th>\n",
       "    </tr>\n",
       "  </thead>\n",
       "  <tbody>\n",
       "    <tr>\n",
       "      <th>975</th>\n",
       "      <td>09.06.2021 15:01</td>\n",
       "      <td>Набережная, 16</td>\n",
       "      <td>5</td>\n",
       "      <td>10700000.0</td>\n",
       "      <td>нестандартная</td>\n",
       "      <td>2/5</td>\n",
       "      <td>196.0</td>\n",
       "      <td>120.0</td>\n",
       "      <td>25.0</td>\n",
       "      <td>Пока объект на сайте, значит он в продаже.  О ...</td>\n",
       "      <td>Воронов Константин  тел. 890-8822-9922,43-02-39</td>\n",
       "      <td>http://magnitogorsk-citystar.ru/realty/prodazh...</td>\n",
       "      <td>2</td>\n",
       "      <td>5</td>\n",
       "    </tr>\n",
       "  </tbody>\n",
       "</table>\n",
       "</div>"
      ],
      "text/plain": [
       "                 date         address  rooms       price       planning floor  \\\n",
       "975  09.06.2021 15:01  Набережная, 16      5  10700000.0  нестандартная   2/5   \n",
       "\n",
       "     area_total  area_living  area_kitchen  \\\n",
       "975       196.0        120.0          25.0   \n",
       "\n",
       "                                              add_info  \\\n",
       "975  Пока объект на сайте, значит он в продаже.  О ...   \n",
       "\n",
       "                                            contacts  \\\n",
       "975  Воронов Константин  тел. 890-8822-9922,43-02-39   \n",
       "\n",
       "                                                   url  fl fl_tot  \n",
       "975  http://magnitogorsk-citystar.ru/realty/prodazh...   2      5  "
      ]
     },
     "execution_count": 332,
     "metadata": {},
     "output_type": "execute_result"
    }
   ],
   "source": [
    "#некоторые очень большие площади стоят ну как-то мало. может там явные особенные случаи\n",
    "data[data['area_total']>190]"
   ]
  },
  {
   "cell_type": "code",
   "execution_count": 333,
   "id": "c5009caa",
   "metadata": {},
   "outputs": [],
   "source": [
    "# давайте их удалим - два дома в пригороде\n",
    "data.drop(data[(data['area_total']>=200) & (data['price']<1e7)].index,inplace=True)"
   ]
  },
  {
   "cell_type": "code",
   "execution_count": 334,
   "id": "297ee846",
   "metadata": {},
   "outputs": [
    {
     "data": {
      "text/plain": [
       "<AxesSubplot:xlabel='area_total', ylabel='price'>"
      ]
     },
     "execution_count": 334,
     "metadata": {},
     "output_type": "execute_result"
    },
    {
     "data": {
      "image/png": "[encoded data removed]",
      "text/plain": [
       "<Figure size 432x288 with 1 Axes>"
      ]
     },
     "metadata": {
      "needs_background": "light"
     },
     "output_type": "display_data"
    }
   ],
   "source": [
    "sns.scatterplot(data=data,x='area_total',y='price')\n",
    "# есть ещё одна странная квартира, которая очень много стоит, но у неё маленькая площадь"
   ]
  },
  {
   "cell_type": "code",
   "execution_count": 335,
   "id": "fd66fbc6",
   "metadata": {},
   "outputs": [
    {
     "data": {
      "text/html": [
       "<div>\n",
       "<style scoped>\n",
       "    .dataframe tbody tr th:only-of-type {\n",
       "        vertical-align: middle;\n",
       "    }\n",
       "\n",
       "    .dataframe tbody tr th {\n",
       "        vertical-align: top;\n",
       "    }\n",
       "\n",
       "    .dataframe thead th {\n",
       "        text-align: right;\n",
       "    }\n",
       "</style>\n",
       "<table border=\"1\" class=\"dataframe\">\n",
       "  <thead>\n",
       "    <tr style=\"text-align: right;\">\n",
       "      <th></th>\n",
       "      <th>date</th>\n",
       "      <th>address</th>\n",
       "      <th>rooms</th>\n",
       "      <th>price</th>\n",
       "      <th>planning</th>\n",
       "      <th>floor</th>\n",
       "      <th>area_total</th>\n",
       "      <th>area_living</th>\n",
       "      <th>area_kitchen</th>\n",
       "      <th>add_info</th>\n",
       "      <th>contacts</th>\n",
       "      <th>url</th>\n",
       "      <th>fl</th>\n",
       "      <th>fl_tot</th>\n",
       "    </tr>\n",
       "  </thead>\n",
       "  <tbody>\n",
       "    <tr>\n",
       "      <th>312</th>\n",
       "      <td>04.06.2022 18:29</td>\n",
       "      <td>Армавирская, 20Ак1</td>\n",
       "      <td>1</td>\n",
       "      <td>9500000.0</td>\n",
       "      <td>нестандартная</td>\n",
       "      <td>3/13</td>\n",
       "      <td>29.0</td>\n",
       "      <td>24.0</td>\n",
       "      <td>12.0</td>\n",
       "      <td>в Сочи в Дагомысе продаётся однокомнатная квар...</td>\n",
       "      <td>Олег  тел. 89528575819</td>\n",
       "      <td>http://magnitogorsk-citystar.ru/realty/prodazh...</td>\n",
       "      <td>3</td>\n",
       "      <td>13</td>\n",
       "    </tr>\n",
       "  </tbody>\n",
       "</table>\n",
       "</div>"
      ],
      "text/plain": [
       "                 date             address  rooms      price       planning  \\\n",
       "312  04.06.2022 18:29  Армавирская, 20Ак1      1  9500000.0  нестандартная   \n",
       "\n",
       "    floor  area_total  area_living  area_kitchen  \\\n",
       "312  3/13        29.0         24.0          12.0   \n",
       "\n",
       "                                              add_info  \\\n",
       "312  в Сочи в Дагомысе продаётся однокомнатная квар...   \n",
       "\n",
       "                   contacts  \\\n",
       "312  Олег  тел. 89528575819   \n",
       "\n",
       "                                                   url  fl fl_tot  \n",
       "312  http://magnitogorsk-citystar.ru/realty/prodazh...   3     13  "
      ]
     },
     "execution_count": 335,
     "metadata": {},
     "output_type": "execute_result"
    }
   ],
   "source": [
    "data[(data['price']>0.8e7) & (data['area_total']<40)]"
   ]
  },
  {
   "cell_type": "code",
   "execution_count": 336,
   "id": "bd26a65e",
   "metadata": {},
   "outputs": [],
   "source": [
    "# Переводим значения в числа\n",
    "df = data.astype({'rooms':'int32',\n",
    "                  'area_total':'float',\n",
    "                  'area_kitchen':'float',\n",
    "                  'area_living':'float',\n",
    "                  'price':'float',\n",
    "                  'fl_tot':'int32'})"
   ]
  },
  {
   "cell_type": "code",
   "execution_count": 337,
   "id": "99c62ae1",
   "metadata": {},
   "outputs": [
    {
     "data": {
      "text/plain": [
       "477"
      ]
     },
     "execution_count": 337,
     "metadata": {},
     "output_type": "execute_result"
    }
   ],
   "source": [
    "# хочу посмотреть, можно ли вытащить район\n",
    "df['add_info'].str.contains('район').sum()"
   ]
  },
  {
   "cell_type": "code",
   "execution_count": 243,
   "id": "68576d0d",
   "metadata": {},
   "outputs": [],
   "source": [
    "# судя по всему, автоматически вытащить район не выходит, у нас слово \"район\" встречается в 500 описаниях из 1300"
   ]
  },
  {
   "cell_type": "code",
   "execution_count": 244,
   "id": "d80ea925",
   "metadata": {},
   "outputs": [],
   "source": [
    "# на сайте youkarta.ru/cheljabinskaja-obl/magnitogorsk-74/ есть возможность вытащить все привязки улиц к районам\n",
    "# это не на 100% точно, но наверное пойдет"
   ]
  },
  {
   "cell_type": "code",
   "execution_count": 338,
   "id": "fa32e7e4",
   "metadata": {},
   "outputs": [],
   "source": [
    "# читаем скачанные файлы и делаем словари\n",
    "streets_len = pd.read_excel('Magn_streets.xlsx', sheet_name=0,header=None)\n",
    "streets_ord = pd.read_excel('Magn_streets.xlsx', sheet_name=1,header=None)\n",
    "streets_prav = pd.read_excel('Magn_streets.xlsx', sheet_name=2,header=None)\n",
    "# соединю в один словарь\n",
    "streets = pd.concat([streets_len[0], streets_ord[0], streets_prav[0]]).str.lower()\n",
    "districts = pd.concat([streets_len[1], streets_ord[1], streets_prav[1]]).str.lower()\n",
    "dict_streets = dict(zip(streets, districts))"
   ]
  },
  {
   "cell_type": "code",
   "execution_count": 339,
   "id": "a664ac42",
   "metadata": {},
   "outputs": [
    {
     "name": "stderr",
     "output_type": "stream",
     "text": [
      "C:\\Users\\pheno\\AppData\\Local\\Temp/ipykernel_18052/496480940.py:14: FutureWarning: The default value of regex will change from True to False in a future version.\n",
      "  df['street'] = df['street'].str.replace('[^a-zA-Z0-9а-яА-Я \\-]', '')\n"
     ]
    }
   ],
   "source": [
    "# вытащим улицу\n",
    "# заодно заменим \"проспект\", \"имени\" и \"площадь\"\n",
    "df['street'] = df['address'].str.strip().str.lower().str.split(',',expand=True)[0].str.replace('пр-т', 'проспект')\n",
    "df['street'] = df['street'].str.replace('им ', 'имени') # не знаю, что это за магия но эта строка тут не работает\n",
    "df['street'] = df['street'].str.replace('пл ', 'площадь ') # не знаю, что это за магия но эта строка тут не работает\n",
    "# уберем всякие \"ул\", \"улица\" \"ГСК\" и \"территория\"\n",
    "df['street'] = df['street'].str.replace('ул ', '') # не знаю, что это за магия но эта строка тут не работает\n",
    "df['street'] = df['street'].str.replace('улица', '')\n",
    "df['street'] = df['street'].str.replace('гск', '')\n",
    "df['street'] = df['street'].str.replace('территория', '')\n",
    "# удалим лишние пробелы, которые могли образоваться после удаления\n",
    "df['street'] = df['street'].str.strip()\n",
    "# удалим всякие символы, которые не являются символьными или пробелами (кавычки точки запятые и т.д.)\n",
    "df['street'] = df['street'].str.replace('[^a-zA-Z0-9а-яА-Я \\-]', '')\n",
    "# удалим там, где улицы нет\n",
    "df.drop(df[df['street']==''].index,inplace=True)\n",
    "# удалю несколько ошибочных названий\n",
    "df['street'] = df['street'].str.replace('перулок', 'переулок')\n",
    "df['street'] = df['street'].str.replace('отябрьская', 'октябрьская')\n",
    "df['street'] = df['street'].str.replace('50 лет', '50-летия')\n",
    "\n",
    "# последнее подготовительное - удалим все строки, где улицы не совпадают с моим справочником\n",
    "df.drop(df[~df['street'].isin(list(dict_streets.keys()))].index, inplace=True)\n",
    "\n",
    "# и наконец добавлю район города\n",
    "df['district'] = df['street'].apply(lambda x: dict_streets[x])"
   ]
  },
  {
   "cell_type": "code",
   "execution_count": 340,
   "id": "1d0f9ae4",
   "metadata": {},
   "outputs": [],
   "source": [
    "# удалим уже ненужные столбцы\n",
    "df.drop(columns=['date','address','planning', 'add_info', 'contacts', 'url','street','area_living','floor'],\n",
    "        inplace=True)"
   ]
  },
  {
   "cell_type": "code",
   "execution_count": 279,
   "id": "ca27144f",
   "metadata": {},
   "outputs": [],
   "source": [
    "# у меня есть идея о том, что в разных районах цены могут быть разными\n",
    "# давайте проверим"
   ]
  },
  {
   "cell_type": "code",
   "execution_count": 341,
   "id": "636d1e20",
   "metadata": {},
   "outputs": [
    {
     "data": {
      "text/plain": [
       "(0.0, 10000000.0)"
      ]
     },
     "execution_count": 341,
     "metadata": {},
     "output_type": "execute_result"
    },
    {
     "data": {
      "image/png": "[encoded data removed]",
      "text/plain": [
       "<Figure size 504.375x360 with 1 Axes>"
      ]
     },
     "metadata": {
      "needs_background": "light"
     },
     "output_type": "display_data"
    }
   ],
   "source": [
    "# построю просто распределения цены в зависимости от района города\n",
    "sns.displot(df, x='price', hue='district',kind='kde')\n",
    "plt.xlim(0,1e7)"
   ]
  },
  {
   "cell_type": "code",
   "execution_count": null,
   "id": "09bc7a0f",
   "metadata": {},
   "outputs": [],
   "source": [
    "# даже на таком простом графике я вижу, что район имеет значение (распределения разные), поэтому район в модели будет"
   ]
  },
  {
   "cell_type": "code",
   "execution_count": 342,
   "id": "6b45b185",
   "metadata": {},
   "outputs": [
    {
     "data": {
      "text/plain": [
       "<AxesSubplot:xlabel='area_total', ylabel='price'>"
      ]
     },
     "execution_count": 342,
     "metadata": {},
     "output_type": "execute_result"
    },
    {
     "data": {
      "image/png": "[encoded data removed]",
      "text/plain": [
       "<Figure size 432x288 with 1 Axes>"
      ]
     },
     "metadata": {
      "needs_background": "light"
     },
     "output_type": "display_data"
    }
   ],
   "source": [
    "sns.scatterplot(data=df, x='area_total', y='price',hue='district')"
   ]
  },
  {
   "cell_type": "code",
   "execution_count": 282,
   "id": "325fe8f8",
   "metadata": {},
   "outputs": [],
   "source": [
    "# тут вроде все логично выглядит"
   ]
  },
  {
   "cell_type": "code",
   "execution_count": 343,
   "id": "3f179b02",
   "metadata": {},
   "outputs": [],
   "source": [
    "# сделаем район числовым\n",
    "districts = {'ленинский':0, 'орджоникидзевский':1, 'правобережный':2}\n",
    "df['dist'] = df['district'].apply(lambda x: districts[x])\n",
    "df.drop(columns=['district'],inplace=True)"
   ]
  },
  {
   "cell_type": "code",
   "execution_count": 345,
   "id": "9774594d",
   "metadata": {},
   "outputs": [
    {
     "name": "stdout",
     "output_type": "stream",
     "text": [
      "<class 'pandas.core.frame.DataFrame'>\n",
      "Int64Index: 1151 entries, 0 to 1321\n",
      "Data columns (total 7 columns):\n",
      " #   Column        Non-Null Count  Dtype  \n",
      "---  ------        --------------  -----  \n",
      " 0   rooms         1151 non-null   int32  \n",
      " 1   price         1151 non-null   float64\n",
      " 2   area_total    1151 non-null   float64\n",
      " 3   area_kitchen  1151 non-null   float64\n",
      " 4   fl            1151 non-null   int32  \n",
      " 5   fl_tot        1151 non-null   int32  \n",
      " 6   dist          1151 non-null   int64  \n",
      "dtypes: float64(3), int32(3), int64(1)\n",
      "memory usage: 58.4 KB\n"
     ]
    }
   ],
   "source": [
    "df.info()"
   ]
  },
  {
   "cell_type": "code",
   "execution_count": 346,
   "id": "feb7347d",
   "metadata": {},
   "outputs": [
    {
     "data": {
      "text/plain": [
       "<AxesSubplot:>"
      ]
     },
     "execution_count": 346,
     "metadata": {},
     "output_type": "execute_result"
    },
    {
     "data": {
      "image/png": "[encoded data removed]",
      "text/plain": [
       "<Figure size 1080x504 with 2 Axes>"
      ]
     },
     "metadata": {
      "needs_background": "light"
     },
     "output_type": "display_data"
    }
   ],
   "source": [
    "# тепловая карта признаков\n",
    "plt.figure(figsize=(15,7))\n",
    "sns.heatmap(df.corr(),annot=True,cmap='viridis')"
   ]
  },
  {
   "cell_type": "code",
   "execution_count": null,
   "id": "0dfec6ae",
   "metadata": {},
   "outputs": [],
   "source": [
    "# как и ожидалось, кол-во комнат и площадь коррелируют с ценой сильно"
   ]
  },
  {
   "cell_type": "code",
   "execution_count": null,
   "id": "dcf9ba1f",
   "metadata": {},
   "outputs": [],
   "source": [
    "# всего у меня 5 признаков (кол-во комнат, площадь, этаж, число этажей, район)\n",
    "# категориальные - район, этаж, кол-во этажей, числовые - число комнат, площадь\n",
    "# попробую использовать catboost"
   ]
  },
  {
   "cell_type": "code",
   "execution_count": 347,
   "id": "4793e512",
   "metadata": {},
   "outputs": [
    {
     "data": {
      "text/html": [
       "<div>\n",
       "<style scoped>\n",
       "    .dataframe tbody tr th:only-of-type {\n",
       "        vertical-align: middle;\n",
       "    }\n",
       "\n",
       "    .dataframe tbody tr th {\n",
       "        vertical-align: top;\n",
       "    }\n",
       "\n",
       "    .dataframe thead th {\n",
       "        text-align: right;\n",
       "    }\n",
       "</style>\n",
       "<table border=\"1\" class=\"dataframe\">\n",
       "  <thead>\n",
       "    <tr style=\"text-align: right;\">\n",
       "      <th></th>\n",
       "      <th>rooms</th>\n",
       "      <th>price</th>\n",
       "      <th>area_total</th>\n",
       "      <th>area_kitchen</th>\n",
       "      <th>fl</th>\n",
       "      <th>fl_tot</th>\n",
       "      <th>dist</th>\n",
       "    </tr>\n",
       "  </thead>\n",
       "  <tbody>\n",
       "    <tr>\n",
       "      <th>0</th>\n",
       "      <td>1</td>\n",
       "      <td>1450000.0</td>\n",
       "      <td>31.6</td>\n",
       "      <td>6.0</td>\n",
       "      <td>4</td>\n",
       "      <td>5</td>\n",
       "      <td>2</td>\n",
       "    </tr>\n",
       "    <tr>\n",
       "      <th>1</th>\n",
       "      <td>2</td>\n",
       "      <td>2450000.0</td>\n",
       "      <td>47.9</td>\n",
       "      <td>6.0</td>\n",
       "      <td>5</td>\n",
       "      <td>5</td>\n",
       "      <td>2</td>\n",
       "    </tr>\n",
       "    <tr>\n",
       "      <th>3</th>\n",
       "      <td>3</td>\n",
       "      <td>3050000.0</td>\n",
       "      <td>66.0</td>\n",
       "      <td>9.0</td>\n",
       "      <td>7</td>\n",
       "      <td>9</td>\n",
       "      <td>1</td>\n",
       "    </tr>\n",
       "    <tr>\n",
       "      <th>4</th>\n",
       "      <td>2</td>\n",
       "      <td>2150000.0</td>\n",
       "      <td>47.8</td>\n",
       "      <td>6.0</td>\n",
       "      <td>3</td>\n",
       "      <td>5</td>\n",
       "      <td>2</td>\n",
       "    </tr>\n",
       "    <tr>\n",
       "      <th>5</th>\n",
       "      <td>3</td>\n",
       "      <td>3300000.0</td>\n",
       "      <td>70.0</td>\n",
       "      <td>50.0</td>\n",
       "      <td>1</td>\n",
       "      <td>4</td>\n",
       "      <td>2</td>\n",
       "    </tr>\n",
       "  </tbody>\n",
       "</table>\n",
       "</div>"
      ],
      "text/plain": [
       "   rooms      price  area_total  area_kitchen  fl  fl_tot  dist\n",
       "0      1  1450000.0        31.6           6.0   4       5     2\n",
       "1      2  2450000.0        47.9           6.0   5       5     2\n",
       "3      3  3050000.0        66.0           9.0   7       9     1\n",
       "4      2  2150000.0        47.8           6.0   3       5     2\n",
       "5      3  3300000.0        70.0          50.0   1       4     2"
      ]
     },
     "execution_count": 347,
     "metadata": {},
     "output_type": "execute_result"
    }
   ],
   "source": [
    "df.head(5)"
   ]
  },
  {
   "cell_type": "code",
   "execution_count": 440,
   "id": "a1f0fc67",
   "metadata": {},
   "outputs": [
    {
     "data": {
      "text/plain": [
       "0.7412115731715991"
      ]
     },
     "execution_count": 440,
     "metadata": {},
     "output_type": "execute_result"
    }
   ],
   "source": [
    "y = df['price']\n",
    "X = df.iloc[:, [0,2,3,4,5,6]]\n",
    "cat_feats = ['dist','fl','fl_tot']\n",
    "num_feats = ['area_total','rooms','area_kitchen']\n",
    "X_train, X_test, y_train, y_test = train_test_split(X, y, test_size=0.3, shuffle=True)\n",
    "\n",
    "params = {'depth': 5, 'l2_leaf_reg': 2, 'learning_rate': 0.3, 'n_estimators':200}\n",
    "cat_reg = CatBoostRegressor(silent=True, **params).fit(X_train,y_train, cat_features=cat_feats)\n",
    "r2_score(y_test, cat_reg.predict(X_test))"
   ]
  },
  {
   "cell_type": "code",
   "execution_count": 90,
   "id": "4aee08c1",
   "metadata": {},
   "outputs": [
    {
     "data": {
      "application/vnd.jupyter.widget-view+json": {
       "model_id": "bead92083182496a870e2af98e22fe10",
       "version_major": 2,
       "version_minor": 0
      },
      "text/plain": [
       "MetricVisualizer(layout=Layout(align_self='stretch', height='500px'))"
      ]
     },
     "metadata": {},
     "output_type": "display_data"
    },
    {
     "name": "stdout",
     "output_type": "stream",
     "text": [
      "\n",
      "bestTest = 537638.5452\n",
      "bestIteration = 98\n",
      "\n",
      "0:\tloss: 537638.5451699\tbest: 537638.5451699 (0)\ttotal: 1.92s\tremaining: 2m 33s\n",
      "\n",
      "bestTest = 529044.4323\n",
      "bestIteration = 52\n",
      "\n",
      "1:\tloss: 529044.4322948\tbest: 529044.4322948 (1)\ttotal: 3.78s\tremaining: 2m 29s\n",
      "\n",
      "bestTest = 539922.5867\n",
      "bestIteration = 38\n",
      "\n",
      "2:\tloss: 539922.5867212\tbest: 529044.4322948 (1)\ttotal: 5.75s\tremaining: 2m 29s\n",
      "\n",
      "bestTest = 534469.9862\n",
      "bestIteration = 115\n",
      "\n",
      "3:\tloss: 534469.9862145\tbest: 529044.4322948 (1)\ttotal: 7.74s\tremaining: 2m 28s\n",
      "\n",
      "bestTest = 529906.654\n",
      "bestIteration = 65\n",
      "\n",
      "4:\tloss: 529906.6540438\tbest: 529044.4322948 (1)\ttotal: 9.62s\tremaining: 2m 26s\n",
      "\n",
      "bestTest = 529026.0023\n",
      "bestIteration = 64\n",
      "\n",
      "5:\tloss: 529026.0022878\tbest: 529026.0022878 (5)\ttotal: 11.6s\tremaining: 2m 24s\n",
      "\n",
      "bestTest = 534637.3051\n",
      "bestIteration = 105\n",
      "\n",
      "6:\tloss: 534637.3050770\tbest: 529026.0022878 (5)\ttotal: 13.5s\tremaining: 2m 22s\n",
      "\n",
      "bestTest = 528410.6393\n",
      "bestIteration = 108\n",
      "\n",
      "7:\tloss: 528410.6393260\tbest: 528410.6393260 (7)\ttotal: 15.4s\tremaining: 2m 20s\n",
      "\n",
      "bestTest = 532175.9267\n",
      "bestIteration = 56\n",
      "\n",
      "8:\tloss: 532175.9267256\tbest: 528410.6393260 (7)\ttotal: 17.5s\tremaining: 2m 20s\n",
      "\n",
      "bestTest = 537638.5452\n",
      "bestIteration = 98\n",
      "\n",
      "9:\tloss: 537638.5451699\tbest: 528410.6393260 (7)\ttotal: 20.1s\tremaining: 2m 22s\n",
      "\n",
      "bestTest = 529044.4323\n",
      "bestIteration = 52\n",
      "\n",
      "10:\tloss: 529044.4322948\tbest: 528410.6393260 (7)\ttotal: 22.6s\tremaining: 2m 23s\n",
      "\n",
      "bestTest = 539922.5867\n",
      "bestIteration = 38\n",
      "\n",
      "11:\tloss: 539922.5867212\tbest: 528410.6393260 (7)\ttotal: 25.2s\tremaining: 2m 24s\n",
      "\n",
      "bestTest = 534469.9862\n",
      "bestIteration = 115\n",
      "\n",
      "12:\tloss: 534469.9862145\tbest: 528410.6393260 (7)\ttotal: 27.8s\tremaining: 2m 25s\n",
      "\n",
      "bestTest = 529906.654\n",
      "bestIteration = 65\n",
      "\n",
      "13:\tloss: 529906.6540438\tbest: 528410.6393260 (7)\ttotal: 30.3s\tremaining: 2m 24s\n",
      "\n",
      "bestTest = 529026.0023\n",
      "bestIteration = 64\n",
      "\n",
      "14:\tloss: 529026.0022878\tbest: 528410.6393260 (7)\ttotal: 32.7s\tremaining: 2m 24s\n",
      "\n",
      "bestTest = 534637.3051\n",
      "bestIteration = 105\n",
      "\n",
      "15:\tloss: 534637.3050770\tbest: 528410.6393260 (7)\ttotal: 35.4s\tremaining: 2m 23s\n",
      "\n",
      "bestTest = 528410.6393\n",
      "bestIteration = 108\n",
      "\n",
      "16:\tloss: 528410.6393260\tbest: 528410.6393260 (7)\ttotal: 37.7s\tremaining: 2m 22s\n",
      "\n",
      "bestTest = 532175.9267\n",
      "bestIteration = 56\n",
      "\n",
      "17:\tloss: 532175.9267256\tbest: 528410.6393260 (7)\ttotal: 40.2s\tremaining: 2m 20s\n",
      "\n",
      "bestTest = 537638.5452\n",
      "bestIteration = 98\n",
      "\n",
      "18:\tloss: 537638.5451699\tbest: 528410.6393260 (7)\ttotal: 43.2s\tremaining: 2m 20s\n",
      "\n",
      "bestTest = 529044.4323\n",
      "bestIteration = 52\n",
      "\n",
      "19:\tloss: 529044.4322948\tbest: 528410.6393260 (7)\ttotal: 46.2s\tremaining: 2m 20s\n",
      "\n",
      "bestTest = 539922.5867\n",
      "bestIteration = 38\n",
      "\n",
      "20:\tloss: 539922.5867212\tbest: 528410.6393260 (7)\ttotal: 49.1s\tremaining: 2m 20s\n",
      "\n",
      "bestTest = 534469.9862\n",
      "bestIteration = 115\n",
      "\n",
      "21:\tloss: 534469.9862145\tbest: 528410.6393260 (7)\ttotal: 52.3s\tremaining: 2m 20s\n",
      "\n",
      "bestTest = 529906.654\n",
      "bestIteration = 65\n",
      "\n",
      "22:\tloss: 529906.6540438\tbest: 528410.6393260 (7)\ttotal: 55.3s\tremaining: 2m 19s\n",
      "\n",
      "bestTest = 529026.0023\n",
      "bestIteration = 64\n",
      "\n",
      "23:\tloss: 529026.0022878\tbest: 528410.6393260 (7)\ttotal: 58.2s\tremaining: 2m 18s\n",
      "\n",
      "bestTest = 534637.3051\n",
      "bestIteration = 105\n",
      "\n",
      "24:\tloss: 534637.3050770\tbest: 528410.6393260 (7)\ttotal: 1m 1s\tremaining: 2m 16s\n",
      "\n",
      "bestTest = 528410.6393\n",
      "bestIteration = 108\n",
      "\n",
      "25:\tloss: 528410.6393260\tbest: 528410.6393260 (7)\ttotal: 1m 4s\tremaining: 2m 15s\n",
      "\n",
      "bestTest = 532175.9267\n",
      "bestIteration = 56\n",
      "\n",
      "26:\tloss: 532175.9267256\tbest: 528410.6393260 (7)\ttotal: 1m 6s\tremaining: 2m 13s\n",
      "\n",
      "bestTest = 533991.3135\n",
      "bestIteration = 75\n",
      "\n",
      "27:\tloss: 533991.3135441\tbest: 528410.6393260 (7)\ttotal: 1m 9s\tremaining: 2m 11s\n",
      "\n",
      "bestTest = 535584.991\n",
      "bestIteration = 71\n",
      "\n",
      "28:\tloss: 535584.9910360\tbest: 528410.6393260 (7)\ttotal: 1m 12s\tremaining: 2m 9s\n",
      "\n",
      "bestTest = 520672.136\n",
      "bestIteration = 66\n",
      "\n",
      "29:\tloss: 520672.1359803\tbest: 520672.1359803 (29)\ttotal: 1m 15s\tremaining: 2m 7s\n",
      "\n",
      "bestTest = 537592.6144\n",
      "bestIteration = 101\n",
      "\n",
      "30:\tloss: 537592.6144338\tbest: 520672.1359803 (29)\ttotal: 1m 17s\tremaining: 2m 5s\n",
      "\n",
      "bestTest = 530779.9586\n",
      "bestIteration = 61\n",
      "\n",
      "31:\tloss: 530779.9586351\tbest: 520672.1359803 (29)\ttotal: 1m 20s\tremaining: 2m 3s\n",
      "\n",
      "bestTest = 537883.6347\n",
      "bestIteration = 58\n",
      "\n",
      "32:\tloss: 537883.6346958\tbest: 520672.1359803 (29)\ttotal: 1m 23s\tremaining: 2m\n",
      "\n",
      "bestTest = 537929.3995\n",
      "bestIteration = 112\n",
      "\n",
      "33:\tloss: 537929.3995246\tbest: 520672.1359803 (29)\ttotal: 1m 25s\tremaining: 1m 58s\n",
      "\n",
      "bestTest = 535401.0986\n",
      "bestIteration = 108\n",
      "\n",
      "34:\tloss: 535401.0985619\tbest: 520672.1359803 (29)\ttotal: 1m 28s\tremaining: 1m 56s\n",
      "\n",
      "bestTest = 524192.934\n",
      "bestIteration = 74\n",
      "\n",
      "35:\tloss: 524192.9340011\tbest: 520672.1359803 (29)\ttotal: 1m 31s\tremaining: 1m 53s\n",
      "\n",
      "bestTest = 533991.3135\n",
      "bestIteration = 75\n",
      "\n",
      "36:\tloss: 533991.3135441\tbest: 520672.1359803 (29)\ttotal: 1m 34s\tremaining: 1m 52s\n",
      "\n",
      "bestTest = 535584.991\n",
      "bestIteration = 71\n",
      "\n",
      "37:\tloss: 535584.9910360\tbest: 520672.1359803 (29)\ttotal: 1m 37s\tremaining: 1m 50s\n",
      "\n",
      "bestTest = 520672.136\n",
      "bestIteration = 66\n",
      "\n",
      "38:\tloss: 520672.1359803\tbest: 520672.1359803 (29)\ttotal: 1m 41s\tremaining: 1m 48s\n",
      "\n",
      "bestTest = 537592.6144\n",
      "bestIteration = 101\n",
      "\n",
      "39:\tloss: 537592.6144338\tbest: 520672.1359803 (29)\ttotal: 1m 44s\tremaining: 1m 47s\n",
      "\n",
      "bestTest = 530779.9586\n",
      "bestIteration = 61\n",
      "\n",
      "40:\tloss: 530779.9586351\tbest: 520672.1359803 (29)\ttotal: 1m 47s\tremaining: 1m 45s\n",
      "\n",
      "bestTest = 537883.6347\n",
      "bestIteration = 58\n",
      "\n",
      "41:\tloss: 537883.6346958\tbest: 520672.1359803 (29)\ttotal: 1m 50s\tremaining: 1m 43s\n",
      "\n",
      "bestTest = 537929.3995\n",
      "bestIteration = 112\n",
      "\n",
      "42:\tloss: 537929.3995246\tbest: 520672.1359803 (29)\ttotal: 1m 54s\tremaining: 1m 41s\n",
      "\n",
      "bestTest = 535401.0986\n",
      "bestIteration = 108\n",
      "\n",
      "43:\tloss: 535401.0985619\tbest: 520672.1359803 (29)\ttotal: 1m 57s\tremaining: 1m 38s\n",
      "\n",
      "bestTest = 524192.934\n",
      "bestIteration = 74\n",
      "\n",
      "44:\tloss: 524192.9340011\tbest: 520672.1359803 (29)\ttotal: 2m\tremaining: 1m 36s\n",
      "\n",
      "bestTest = 533991.3135\n",
      "bestIteration = 75\n",
      "\n",
      "45:\tloss: 533991.3135441\tbest: 520672.1359803 (29)\ttotal: 2m 4s\tremaining: 1m 35s\n",
      "\n",
      "bestTest = 535584.991\n",
      "bestIteration = 71\n",
      "\n",
      "46:\tloss: 535584.9910360\tbest: 520672.1359803 (29)\ttotal: 2m 8s\tremaining: 1m 33s\n",
      "\n",
      "bestTest = 520672.136\n",
      "bestIteration = 66\n",
      "\n",
      "47:\tloss: 520672.1359803\tbest: 520672.1359803 (29)\ttotal: 2m 12s\tremaining: 1m 31s\n",
      "\n",
      "bestTest = 537592.6144\n",
      "bestIteration = 101\n",
      "\n",
      "48:\tloss: 537592.6144338\tbest: 520672.1359803 (29)\ttotal: 2m 16s\tremaining: 1m 29s\n",
      "\n",
      "bestTest = 530779.9586\n",
      "bestIteration = 61\n",
      "\n",
      "49:\tloss: 530779.9586351\tbest: 520672.1359803 (29)\ttotal: 2m 20s\tremaining: 1m 27s\n",
      "\n",
      "bestTest = 537883.6347\n",
      "bestIteration = 58\n",
      "\n",
      "50:\tloss: 537883.6346958\tbest: 520672.1359803 (29)\ttotal: 2m 24s\tremaining: 1m 24s\n",
      "\n",
      "bestTest = 537929.3995\n",
      "bestIteration = 112\n",
      "\n",
      "51:\tloss: 537929.3995246\tbest: 520672.1359803 (29)\ttotal: 2m 28s\tremaining: 1m 22s\n",
      "\n",
      "bestTest = 535401.0986\n",
      "bestIteration = 108\n",
      "\n",
      "52:\tloss: 535401.0985619\tbest: 520672.1359803 (29)\ttotal: 2m 32s\tremaining: 1m 20s\n",
      "\n",
      "bestTest = 524192.934\n",
      "bestIteration = 74\n",
      "\n",
      "53:\tloss: 524192.9340011\tbest: 520672.1359803 (29)\ttotal: 2m 36s\tremaining: 1m 18s\n",
      "\n",
      "bestTest = 530806.3199\n",
      "bestIteration = 73\n",
      "\n",
      "54:\tloss: 530806.3198547\tbest: 520672.1359803 (29)\ttotal: 2m 41s\tremaining: 1m 16s\n",
      "\n",
      "bestTest = 548555.4034\n",
      "bestIteration = 62\n",
      "\n",
      "55:\tloss: 548555.4034024\tbest: 520672.1359803 (29)\ttotal: 2m 46s\tremaining: 1m 14s\n",
      "\n",
      "bestTest = 518493.5255\n",
      "bestIteration = 51\n",
      "\n",
      "56:\tloss: 518493.5254645\tbest: 518493.5254645 (56)\ttotal: 2m 51s\tremaining: 1m 12s\n",
      "\n",
      "bestTest = 538940.3525\n",
      "bestIteration = 84\n",
      "\n",
      "57:\tloss: 538940.3525229\tbest: 518493.5254645 (56)\ttotal: 2m 56s\tremaining: 1m 10s\n",
      "\n",
      "bestTest = 529187.6713\n",
      "bestIteration = 69\n",
      "\n",
      "58:\tloss: 529187.6713087\tbest: 518493.5254645 (56)\ttotal: 3m 1s\tremaining: 1m 7s\n",
      "\n",
      "bestTest = 513785.8548\n",
      "bestIteration = 67\n",
      "\n",
      "59:\tloss: 513785.8547826\tbest: 513785.8547826 (59)\ttotal: 3m 6s\tremaining: 1m 5s\n",
      "\n",
      "bestTest = 530838.075\n",
      "bestIteration = 87\n",
      "\n",
      "60:\tloss: 530838.0750294\tbest: 513785.8547826 (59)\ttotal: 3m 11s\tremaining: 1m 2s\n",
      "\n",
      "bestTest = 530669.8881\n",
      "bestIteration = 79\n",
      "\n",
      "61:\tloss: 530669.8880513\tbest: 513785.8547826 (59)\ttotal: 3m 16s\tremaining: 1m\n",
      "\n",
      "bestTest = 529518.3785\n",
      "bestIteration = 66\n",
      "\n",
      "62:\tloss: 529518.3785335\tbest: 513785.8547826 (59)\ttotal: 3m 20s\tremaining: 57.4s\n",
      "\n",
      "bestTest = 530806.3199\n",
      "bestIteration = 73\n",
      "\n",
      "63:\tloss: 530806.3198547\tbest: 513785.8547826 (59)\ttotal: 3m 27s\tremaining: 55.1s\n",
      "\n",
      "bestTest = 548555.4034\n",
      "bestIteration = 62\n",
      "\n",
      "64:\tloss: 548555.4034024\tbest: 513785.8547826 (59)\ttotal: 3m 33s\tremaining: 52.5s\n",
      "\n",
      "bestTest = 518493.5255\n",
      "bestIteration = 51\n",
      "\n",
      "65:\tloss: 518493.5254645\tbest: 513785.8547826 (59)\ttotal: 3m 38s\tremaining: 49.6s\n"
     ]
    },
    {
     "name": "stdout",
     "output_type": "stream",
     "text": [
      "\n",
      "bestTest = 538940.3525\n",
      "bestIteration = 84\n",
      "\n",
      "66:\tloss: 538940.3525229\tbest: 513785.8547826 (59)\ttotal: 3m 43s\tremaining: 46.7s\n",
      "\n",
      "bestTest = 529187.6713\n",
      "bestIteration = 69\n",
      "\n",
      "67:\tloss: 529187.6713087\tbest: 513785.8547826 (59)\ttotal: 3m 50s\tremaining: 44s\n",
      "\n",
      "bestTest = 513785.8548\n",
      "bestIteration = 67\n",
      "\n",
      "68:\tloss: 513785.8547826\tbest: 513785.8547826 (59)\ttotal: 3m 56s\tremaining: 41.1s\n",
      "\n",
      "bestTest = 530838.075\n",
      "bestIteration = 87\n",
      "\n",
      "69:\tloss: 530838.0750294\tbest: 513785.8547826 (59)\ttotal: 4m 2s\tremaining: 38.1s\n",
      "\n",
      "bestTest = 530669.8881\n",
      "bestIteration = 79\n",
      "\n",
      "70:\tloss: 530669.8880513\tbest: 513785.8547826 (59)\ttotal: 4m 8s\tremaining: 35s\n",
      "\n",
      "bestTest = 529518.3785\n",
      "bestIteration = 66\n",
      "\n",
      "71:\tloss: 529518.3785335\tbest: 513785.8547826 (59)\ttotal: 4m 14s\tremaining: 31.8s\n",
      "\n",
      "bestTest = 530806.3199\n",
      "bestIteration = 73\n",
      "\n",
      "72:\tloss: 530806.3198547\tbest: 513785.8547826 (59)\ttotal: 4m 21s\tremaining: 28.6s\n",
      "\n",
      "bestTest = 548555.4034\n",
      "bestIteration = 62\n",
      "\n",
      "73:\tloss: 548555.4034024\tbest: 513785.8547826 (59)\ttotal: 4m 28s\tremaining: 25.4s\n",
      "\n",
      "bestTest = 518493.5255\n",
      "bestIteration = 51\n",
      "\n",
      "74:\tloss: 518493.5254645\tbest: 513785.8547826 (59)\ttotal: 4m 35s\tremaining: 22.1s\n",
      "\n",
      "bestTest = 538940.3525\n",
      "bestIteration = 84\n",
      "\n",
      "75:\tloss: 538940.3525229\tbest: 513785.8547826 (59)\ttotal: 4m 43s\tremaining: 18.6s\n",
      "\n",
      "bestTest = 529187.6713\n",
      "bestIteration = 69\n",
      "\n",
      "76:\tloss: 529187.6713087\tbest: 513785.8547826 (59)\ttotal: 4m 50s\tremaining: 15.1s\n",
      "\n",
      "bestTest = 513785.8548\n",
      "bestIteration = 67\n",
      "\n",
      "77:\tloss: 513785.8547826\tbest: 513785.8547826 (59)\ttotal: 4m 56s\tremaining: 11.4s\n",
      "\n",
      "bestTest = 530838.075\n",
      "bestIteration = 87\n",
      "\n",
      "78:\tloss: 530838.0750294\tbest: 513785.8547826 (59)\ttotal: 5m 4s\tremaining: 7.7s\n",
      "\n",
      "bestTest = 530669.8881\n",
      "bestIteration = 79\n",
      "\n",
      "79:\tloss: 530669.8880513\tbest: 513785.8547826 (59)\ttotal: 5m 11s\tremaining: 3.9s\n",
      "\n",
      "bestTest = 529518.3785\n",
      "bestIteration = 66\n",
      "\n",
      "80:\tloss: 529518.3785335\tbest: 513785.8547826 (59)\ttotal: 5m 19s\tremaining: 0us\n",
      "Estimating final quality...\n",
      "Training on fold [0/5]\n",
      "\n",
      "bestTest = 416321.799\n",
      "bestIteration = 98\n",
      "\n",
      "Training on fold [1/5]\n",
      "\n",
      "bestTest = 684690.4083\n",
      "bestIteration = 129\n",
      "\n",
      "Training on fold [2/5]\n",
      "\n",
      "bestTest = 459097.6606\n",
      "bestIteration = 196\n",
      "\n",
      "Training on fold [3/5]\n",
      "\n",
      "bestTest = 793941.3322\n",
      "bestIteration = 119\n",
      "\n",
      "Training on fold [4/5]\n",
      "\n",
      "bestTest = 541699.9589\n",
      "bestIteration = 47\n",
      "\n"
     ]
    }
   ],
   "source": [
    "from catboost import Pool\n",
    "X_train, X_test, y_train, y_test = train_test_split(X, y, test_size=0.1)\n",
    "data_cat = Pool(X_train, y_train, cat_features=cat_feats)\n",
    "params = {'learning_rate':[0.25,0.3,0.35],\n",
    "          'max_depth':[3,4,5],\n",
    "          'l2_leaf_reg': [6,7,8],\n",
    "          'n_estimators':[200,250,300]}\n",
    "cb_model = CatBoostRegressor(silent=True)\n",
    "grid_found = cb_model.grid_search(params,data_cat,cv=5,plot=True,)"
   ]
  },
  {
   "cell_type": "code",
   "execution_count": 91,
   "id": "2acdd4b5",
   "metadata": {},
   "outputs": [
    {
     "name": "stdout",
     "output_type": "stream",
     "text": [
      "{'learning_rate': [0.25, 0.3, 0.35], 'depth': [3, 4, 5], 'l2_leaf_reg': [6, 7, 8], 'iterations': [200, 250, 300]}\n",
      "{'depth': 5, 'l2_leaf_reg': 7, 'iterations': 200, 'learning_rate': 0.35}\n"
     ]
    }
   ],
   "source": [
    "print(params)\n",
    "print(grid_found['params'])"
   ]
  },
  {
   "cell_type": "code",
   "execution_count": 92,
   "id": "9554da0c",
   "metadata": {},
   "outputs": [
    {
     "data": {
      "text/plain": [
       "0.5272390302227781"
      ]
     },
     "execution_count": 92,
     "metadata": {},
     "output_type": "execute_result"
    }
   ],
   "source": [
    "r2_score(y_test,cb_model.predict(X_test))"
   ]
  },
  {
   "cell_type": "code",
   "execution_count": null,
   "id": "471688b1",
   "metadata": {},
   "outputs": [],
   "source": [
    "# catboost работает тут так себе, попробую XGBoost, для этого нужно сделать one-hot"
   ]
  },
  {
   "cell_type": "code",
   "execution_count": 497,
   "id": "a795369c",
   "metadata": {},
   "outputs": [
    {
     "data": {
      "text/plain": [
       "0.7069044908628028"
      ]
     },
     "execution_count": 497,
     "metadata": {},
     "output_type": "execute_result"
    }
   ],
   "source": [
    "import xgboost as xgb\n",
    "y = df['price']\n",
    "X = df.iloc[:, [0,2,3,4,5,6]]\n",
    "cat_feats = ['dist','fl','fl_tot','rooms']\n",
    "num_feats = ['area_total','area_kitchen']\n",
    "pre_cat = ColumnTransformer(\n",
    "    transformers=[\n",
    "        ('num', 'passthrough', num_feats),\n",
    "        (\"cat\", OneHotEncoder(), cat_feats)]).fit(X)\n",
    "\n",
    "X = pre_cat.transform(X)\n",
    "X_train, X_test, y_train, y_test = train_test_split(X, y, test_size=0.3, shuffle=True)\n",
    "\n",
    "params = {'n_estimators':200, 'max_depth':6, 'learning_rate':0.05}\n",
    "xgb_model = xgb.XGBRegressor(**params).fit(X_train,y_train)\n",
    "xgb_model.score(X_test,y_test)"
   ]
  },
  {
   "cell_type": "code",
   "execution_count": 512,
   "id": "1d76c772",
   "metadata": {},
   "outputs": [
    {
     "name": "stdout",
     "output_type": "stream",
     "text": [
      "Fitting 5 folds for each of 60 candidates, totalling 300 fits\n"
     ]
    },
    {
     "data": {
      "text/plain": [
       "GridSearchCV(cv=5,\n",
       "             estimator=XGBRegressor(base_score=None, booster=None,\n",
       "                                    colsample_bylevel=None,\n",
       "                                    colsample_bynode=None,\n",
       "                                    colsample_bytree=None,\n",
       "                                    enable_categorical=False, gamma=None,\n",
       "                                    gpu_id=None, importance_type=None,\n",
       "                                    interaction_constraints=None,\n",
       "                                    learning_rate=None, max_delta_step=None,\n",
       "                                    max_depth=None, min_child_weight=None,\n",
       "                                    missing=nan, monotone_constraints=None,\n",
       "                                    n_estimators=100, n_jobs=None,\n",
       "                                    num_parallel_tree=None, predictor=None,\n",
       "                                    random_state=None, reg_alpha=None,\n",
       "                                    reg_lambda=None, scale_pos_weight=None,\n",
       "                                    subsample=None, tree_method=None,\n",
       "                                    validate_parameters=None, verbosity=None),\n",
       "             n_jobs=-1,\n",
       "             param_grid={'learning_rate': [0.01, 0.05, 0.02],\n",
       "                         'max_depth': range(3, 8),\n",
       "                         'n_estimators': range(60, 200, 40)},\n",
       "             scoring='r2', verbose=True)"
      ]
     },
     "execution_count": 512,
     "metadata": {},
     "output_type": "execute_result"
    }
   ],
   "source": [
    "parameters = {\n",
    "    'max_depth': range (3, 8, 1),\n",
    "    'n_estimators': range(60, 200, 40),\n",
    "    'learning_rate': [0.01, 0.05,0.02]\n",
    "}\n",
    "grid_search = GridSearchCV(\n",
    "    estimator=xgb.XGBRegressor(),\n",
    "    param_grid=parameters,\n",
    "    scoring = 'r2',\n",
    "    n_jobs = -1,\n",
    "    cv = 5,\n",
    "    verbose=True\n",
    ")\n",
    "grid_search.fit(X, y)"
   ]
  },
  {
   "cell_type": "code",
   "execution_count": 513,
   "id": "5e517f7c",
   "metadata": {},
   "outputs": [
    {
     "data": {
      "text/plain": [
       "XGBRegressor(base_score=0.5, booster='gbtree', colsample_bylevel=1,\n",
       "             colsample_bynode=1, colsample_bytree=1, enable_categorical=False,\n",
       "             gamma=0, gpu_id=-1, importance_type=None,\n",
       "             interaction_constraints='', learning_rate=0.05, max_delta_step=0,\n",
       "             max_depth=5, min_child_weight=1, missing=nan,\n",
       "             monotone_constraints='()', n_estimators=100, n_jobs=16,\n",
       "             num_parallel_tree=1, predictor='auto', random_state=0, reg_alpha=0,\n",
       "             reg_lambda=1, scale_pos_weight=1, subsample=1, tree_method='exact',\n",
       "             validate_parameters=1, verbosity=None)"
      ]
     },
     "execution_count": 513,
     "metadata": {},
     "output_type": "execute_result"
    }
   ],
   "source": [
    "grid_search.best_estimator_"
   ]
  },
  {
   "cell_type": "code",
   "execution_count": 514,
   "id": "141d5c18",
   "metadata": {},
   "outputs": [
    {
     "data": {
      "text/plain": [
       "0.7213193245041222"
      ]
     },
     "execution_count": 514,
     "metadata": {},
     "output_type": "execute_result"
    }
   ],
   "source": [
    "grid_search.best_score_"
   ]
  },
  {
   "cell_type": "code",
   "execution_count": 581,
   "id": "ecde465c",
   "metadata": {},
   "outputs": [
    {
     "data": {
      "text/plain": [
       "0.896501875050744"
      ]
     },
     "execution_count": 581,
     "metadata": {},
     "output_type": "execute_result"
    }
   ],
   "source": [
    "# буду использовать xgboost, но перед его использованием обучу его на всём датасете, чтобы получить больше информации\n",
    "y = df['price']\n",
    "X = df.iloc[:, [0,2,3,4,5,6]]\n",
    "cat_feats = [5,3,4,0]\n",
    "num_feats = [1,2]\n",
    "pre_cat = ColumnTransformer(\n",
    "    transformers=[\n",
    "        ('num', 'passthrough', num_feats),\n",
    "        (\"cat\", OneHotEncoder(), cat_feats)]).fit(X)\n",
    "\n",
    "X_transf = pre_cat.transform(X)\n",
    "\n",
    "params = {'n_estimators':100, 'max_depth':5, 'learning_rate':0.05}\n",
    "xgb_model = xgb.XGBRegressor(**params).fit(X_transf,y)\n",
    "xgb_model.score(X_transf, y)"
   ]
  },
  {
   "cell_type": "code",
   "execution_count": null,
   "id": "e6e2e78c",
   "metadata": {},
   "outputs": [],
   "source": [
    "# естесственно, свой датасет он запоминает неплохо"
   ]
  },
  {
   "cell_type": "code",
   "execution_count": 582,
   "id": "b15d9e77",
   "metadata": {},
   "outputs": [],
   "source": [
    "import pickle\n",
    "with open('col_transf.pkl', 'wb') as ct:\n",
    "    pickle.dump(pre_cat, ct)\n",
    "with open('xgb.pkl','wb') as xg:\n",
    "    pickle.dump(xgb_model, xg)"
   ]
  },
  {
   "cell_type": "code",
   "execution_count": 586,
   "id": "bf333a54",
   "metadata": {},
   "outputs": [
    {
     "name": "stdout",
     "output_type": "stream",
     "text": [
      "[1796300.]\n"
     ]
    }
   ],
   "source": []
  },
  {
   "cell_type": "code",
   "execution_count": 555,
   "id": "d0e72626",
   "metadata": {},
   "outputs": [
    {
     "data": {
      "text/html": [
       "<div>\n",
       "<style scoped>\n",
       "    .dataframe tbody tr th:only-of-type {\n",
       "        vertical-align: middle;\n",
       "    }\n",
       "\n",
       "    .dataframe tbody tr th {\n",
       "        vertical-align: top;\n",
       "    }\n",
       "\n",
       "    .dataframe thead th {\n",
       "        text-align: right;\n",
       "    }\n",
       "</style>\n",
       "<table border=\"1\" class=\"dataframe\">\n",
       "  <thead>\n",
       "    <tr style=\"text-align: right;\">\n",
       "      <th></th>\n",
       "      <th>rooms</th>\n",
       "      <th>area_total</th>\n",
       "      <th>area_kitchen</th>\n",
       "      <th>fl</th>\n",
       "      <th>fl_tot</th>\n",
       "      <th>dist</th>\n",
       "    </tr>\n",
       "  </thead>\n",
       "  <tbody>\n",
       "    <tr>\n",
       "      <th>0</th>\n",
       "      <td>1</td>\n",
       "      <td>31.6</td>\n",
       "      <td>6.0</td>\n",
       "      <td>4</td>\n",
       "      <td>5</td>\n",
       "      <td>2</td>\n",
       "    </tr>\n",
       "    <tr>\n",
       "      <th>1</th>\n",
       "      <td>2</td>\n",
       "      <td>47.9</td>\n",
       "      <td>6.0</td>\n",
       "      <td>5</td>\n",
       "      <td>5</td>\n",
       "      <td>2</td>\n",
       "    </tr>\n",
       "    <tr>\n",
       "      <th>3</th>\n",
       "      <td>3</td>\n",
       "      <td>66.0</td>\n",
       "      <td>9.0</td>\n",
       "      <td>7</td>\n",
       "      <td>9</td>\n",
       "      <td>1</td>\n",
       "    </tr>\n",
       "    <tr>\n",
       "      <th>4</th>\n",
       "      <td>2</td>\n",
       "      <td>47.8</td>\n",
       "      <td>6.0</td>\n",
       "      <td>3</td>\n",
       "      <td>5</td>\n",
       "      <td>2</td>\n",
       "    </tr>\n",
       "    <tr>\n",
       "      <th>5</th>\n",
       "      <td>3</td>\n",
       "      <td>70.0</td>\n",
       "      <td>50.0</td>\n",
       "      <td>1</td>\n",
       "      <td>4</td>\n",
       "      <td>2</td>\n",
       "    </tr>\n",
       "  </tbody>\n",
       "</table>\n",
       "</div>"
      ],
      "text/plain": [
       "   rooms  area_total  area_kitchen  fl  fl_tot  dist\n",
       "0      1        31.6           6.0   4       5     2\n",
       "1      2        47.9           6.0   5       5     2\n",
       "3      3        66.0           9.0   7       9     1\n",
       "4      2        47.8           6.0   3       5     2\n",
       "5      3        70.0          50.0   1       4     2"
      ]
     },
     "execution_count": 555,
     "metadata": {},
     "output_type": "execute_result"
    }
   ],
   "source": [
    "X.head()"
   ]
  },
  {
   "cell_type": "code",
   "execution_count": 640,
   "id": "940494db",
   "metadata": {},
   "outputs": [
    {
     "name": "stdout",
     "output_type": "stream",
     "text": [
      "r2: 0.7587363394894339\n",
      "cross_val:  0.7274784489163718\n"
     ]
    }
   ],
   "source": [
    "y = df['price']\n",
    "X = df.iloc[:, [0,2,3,4,5,6]]\n",
    "cat_feats = ['dist','fl','fl_tot','rooms']\n",
    "num_feats = ['area_total','area_kitchen']\n",
    "pre_cat = ColumnTransformer(\n",
    "    transformers=[\n",
    "        ('num', 'passthrough', num_feats),\n",
    "        (\"cat\", OneHotEncoder(), cat_feats)]).fit(X)\n",
    "\n",
    "X = pre_cat.transform(X)\n",
    "X_train, X_test, y_train, y_test = train_test_split(X, y, test_size=0.2, shuffle=True)\n",
    "lin_reg = LinearRegression()\n",
    "lr_mod = lin_reg.fit(X_train,y_train)\n",
    "print('r2:', r2_score(y_test,lr_mod.predict(X_test)))\n",
    "print('cross_val: ', cross_val_score(lr_mod,X_test,y_test,cv=4).mean())"
   ]
  },
  {
   "cell_type": "code",
   "execution_count": null,
   "id": "7fef60d7",
   "metadata": {},
   "outputs": [],
   "source": []
  },
  {
   "cell_type": "code",
   "execution_count": null,
   "id": "d8f4097a",
   "metadata": {},
   "outputs": [],
   "source": []
  }
 ],
 "metadata": {
  "kernelspec": {
   "display_name": "Python 3 (ipykernel)",
   "language": "python",
   "name": "python3"
  },
  "language_info": {
   "codemirror_mode": {
    "name": "ipython",
    "version": 3
   },
   "file_extension": ".py",
   "mimetype": "text/x-python",
   "name": "python",
   "nbconvert_exporter": "python",
   "pygments_lexer": "ipython3",
   "version": "3.8.8"
  }
 },
 "nbformat": 4,
 "nbformat_minor": 5
}
